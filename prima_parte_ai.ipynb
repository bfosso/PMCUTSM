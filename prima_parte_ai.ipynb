{
 "cells": [
  {
   "cell_type": "markdown",
   "id": "404aed41-b23e-40a4-8eac-7db8a4895eae",
   "metadata": {},
   "source": [
    "# Getting Started"
   ]
  },
  {
   "cell_type": "code",
   "execution_count": 1,
   "id": "0024e802-1ac9-4510-af3f-074f29ed4037",
   "metadata": {},
   "outputs": [
    {
     "name": "stdout",
     "output_type": "stream",
     "text": [
      "3.0\n"
     ]
    }
   ],
   "source": [
    "x = 2.0\n",
    "y = 1\n",
    "z = x + y\n",
    "print(z)"
   ]
  },
  {
   "cell_type": "markdown",
   "id": "f59bf6ee-7afb-4832-a6f7-3e1eefb795f9",
   "metadata": {},
   "source": [
    "Division and parentesis"
   ]
  },
  {
   "cell_type": "code",
   "execution_count": 3,
   "id": "0d6f8e25-0542-4c20-9dcc-ecdd00166cd9",
   "metadata": {},
   "outputs": [
    {
     "name": "stdout",
     "output_type": "stream",
     "text": [
      "11.333333333333334\n",
      "16.333333333333336\n"
     ]
    }
   ],
   "source": [
    "x = (17 * 2) / 3\n",
    "y = 2.5\n",
    "print(x)\n",
    "print(x + (y * 2))"
   ]
  },
  {
   "cell_type": "code",
   "execution_count": 4,
   "id": "2b89806e-e7f6-4ca7-9b55-184020ed28e0",
   "metadata": {},
   "outputs": [
    {
     "data": {
      "text/plain": [
       "11.33"
      ]
     },
     "execution_count": 4,
     "metadata": {},
     "output_type": "execute_result"
    }
   ],
   "source": [
    "round(x, 2)"
   ]
  },
  {
   "cell_type": "markdown",
   "id": "a216bb50-fbd0-4993-9e9b-51f5eb0f5251",
   "metadata": {},
   "source": [
    "strings"
   ]
  },
  {
   "cell_type": "code",
   "execution_count": 5,
   "id": "cb1a97d7-686e-4d37-b6b8-01b65708afd8",
   "metadata": {},
   "outputs": [
    {
     "name": "stdout",
     "output_type": "stream",
     "text": [
      "Ciao a tutti\n"
     ]
    }
   ],
   "source": [
    "x='a tutti'\n",
    "print(\"Ciao\", x)"
   ]
  },
  {
   "cell_type": "markdown",
   "id": "f0a7a2c8-0a7d-4a0f-aedf-842117917ea1",
   "metadata": {},
   "source": [
    "You can use the same name for two different types"
   ]
  },
  {
   "cell_type": "code",
   "execution_count": 6,
   "id": "6eddcc05-ce22-4b97-a6dd-71ccbfcef31c",
   "metadata": {},
   "outputs": [
    {
     "name": "stdout",
     "output_type": "stream",
     "text": [
      "2 cat\n"
     ]
    }
   ],
   "source": [
    "x = \"dog\"\n",
    "y = \"cat\"\n",
    "x = 2\n",
    "print(x, y)"
   ]
  },
  {
   "cell_type": "code",
   "execution_count": 7,
   "id": "b2dfc539-6532-4ec5-9329-0062d4e3e54f",
   "metadata": {},
   "outputs": [
    {
     "data": {
      "text/plain": [
       "int"
      ]
     },
     "execution_count": 7,
     "metadata": {},
     "output_type": "execute_result"
    }
   ],
   "source": [
    "type(x)"
   ]
  },
  {
   "cell_type": "code",
   "execution_count": 8,
   "id": "68c1f938-dccf-4442-b337-77c97c594a97",
   "metadata": {},
   "outputs": [
    {
     "data": {
      "text/plain": [
       "str"
      ]
     },
     "execution_count": 8,
     "metadata": {},
     "output_type": "execute_result"
    }
   ],
   "source": [
    "x = \"microbiome\"\n",
    "type(x)"
   ]
  },
  {
   "cell_type": "code",
   "execution_count": 10,
   "id": "b47b66fa-382c-4f0c-8a47-38efbdd2abe6",
   "metadata": {},
   "outputs": [
    {
     "name": "stdout",
     "output_type": "stream",
     "text": [
      "<class 'int'>\n"
     ]
    }
   ],
   "source": [
    "a = 8\n",
    "print(type(a))"
   ]
  },
  {
   "cell_type": "code",
   "execution_count": 11,
   "id": "edeebe25-6e49-4c9d-855f-2ea6817b962c",
   "metadata": {},
   "outputs": [
    {
     "name": "stdout",
     "output_type": "stream",
     "text": [
      "68719476736\n",
      "<class 'int'>\n"
     ]
    }
   ],
   "source": [
    "b=a**12\n",
    "print(b)\n",
    "print(type(b))"
   ]
  },
  {
   "cell_type": "code",
   "execution_count": 12,
   "id": "a629f4db-97ba-41de-bc75-7b36d21f4e43",
   "metadata": {},
   "outputs": [
    {
     "name": "stdout",
     "output_type": "stream",
     "text": [
      "19.0 <class 'float'>\n"
     ]
    }
   ],
   "source": [
    "a = 4\n",
    "b = 15.0\n",
    "c = a+b\n",
    "print(c, type(c))"
   ]
  },
  {
   "cell_type": "markdown",
   "id": "0be9b15b-dff8-4e59-b318-9ad4bd184f54",
   "metadata": {},
   "source": [
    "# Lists operations"
   ]
  },
  {
   "cell_type": "code",
   "execution_count": 14,
   "id": "eb911435-e4ce-46a7-bfdf-600b6e71d27b",
   "metadata": {},
   "outputs": [],
   "source": [
    "films = [\"the devil's advocate\", \"The Astronaut's Wife\", \"Mad Max: Fury Road\"]"
   ]
  },
  {
   "cell_type": "code",
   "execution_count": 15,
   "id": "c99ab542-1bfc-46ac-a4d3-0e3d1d3e736c",
   "metadata": {},
   "outputs": [
    {
     "name": "stdout",
     "output_type": "stream",
     "text": [
      "1 ['Anna', 'Giulia', 'Vito', 'Michele']\n",
      "2 4\n",
      "3 Vito\n"
     ]
    }
   ],
   "source": [
    "pyclass = [\"Anna\", 'Giulia', 'Vito', \"Michele\"]\n",
    "print('1',pyclass)\n",
    "print('2',len(pyclass))\n",
    "print('3',pyclass[2])"
   ]
  },
  {
   "cell_type": "code",
   "execution_count": 16,
   "id": "cb94af5c-fd6a-4f90-9f54-f0703773570c",
   "metadata": {},
   "outputs": [
    {
     "name": "stdout",
     "output_type": "stream",
     "text": [
      "['Anna', 'Giulia', 'Vito', 'Michele', 'Rosa']\n",
      "Rosa\n",
      "['Anna', 'Giulia', 'Vito', 'Michele']\n"
     ]
    }
   ],
   "source": [
    "pyclass.append(\"Rosa\")\n",
    "print(pyclass)\n",
    "popped_out = pyclass.pop()\n",
    "print(popped_out)\n",
    "print(pyclass)"
   ]
  },
  {
   "cell_type": "code",
   "execution_count": 17,
   "id": "e42548eb-8cd4-45be-ba32-60bde40aeef3",
   "metadata": {},
   "outputs": [
    {
     "name": "stdout",
     "output_type": "stream",
     "text": [
      "['Anna', 'Giulia', 'Vito', 'Michele', 'Rosa', 'Gioacchino']\n"
     ]
    }
   ],
   "source": [
    "pyclass.extend([\"Rosa\",'Gioacchino'])\n",
    "print(pyclass)"
   ]
  },
  {
   "cell_type": "code",
   "execution_count": 18,
   "id": "43a194cc-f81e-44c9-84b7-e2baee342190",
   "metadata": {},
   "outputs": [
    {
     "name": "stdout",
     "output_type": "stream",
     "text": [
      "['Anna', 'Giulia', 'Michele', 'Rosa', 'Gioacchino']\n"
     ]
    }
   ],
   "source": [
    "pyclass.remove('Vito')\n",
    "print(pyclass)"
   ]
  },
  {
   "cell_type": "code",
   "execution_count": 19,
   "id": "936c1711-a2e2-4847-b4a9-c62312d9c9f9",
   "metadata": {},
   "outputs": [
    {
     "name": "stdout",
     "output_type": "stream",
     "text": [
      "Lab group members: ['Elio', 'Vito', 'Maurizio', 'Anna', 'Giulia', 'Michele', 'Rosa', 'Gioacchino']\n"
     ]
    }
   ],
   "source": [
    "pyclass.insert(0, 'Maurizio')\n",
    "pyclass.insert(0, 'Vito')\n",
    "pyclass.insert(0, 'Elio')\n",
    "print(\"Lab group members: {}\".format(pyclass)) "
   ]
  },
  {
   "cell_type": "markdown",
   "id": "e3ddbe61-ec82-4a6a-b589-68e2963aff88",
   "metadata": {},
   "source": [
    "# Conditionals and loops"
   ]
  },
  {
   "cell_type": "code",
   "execution_count": 20,
   "id": "8220a45a-8895-4f9b-ad67-7d9b7b48a27d",
   "metadata": {},
   "outputs": [
    {
     "name": "stdout",
     "output_type": "stream",
     "text": [
      "Loop count exceeded 2000. Exiting\n"
     ]
    }
   ],
   "source": [
    "x = 0.0 \n",
    "counter = 0 \n",
    "while x < 0.05: \n",
    "  #Guard against infinite loop \n",
    "  counter += 1\n",
    "  if counter > 2000: \n",
    "    print(\"Loop count exceeded 2000. Exiting\") \n",
    "    break"
   ]
  },
  {
   "cell_type": "code",
   "execution_count": 21,
   "id": "c568e7ae-db2c-4135-8307-d287d3d09e06",
   "metadata": {},
   "outputs": [
    {
     "name": "stdout",
     "output_type": "stream",
     "text": [
      "1\n",
      "2\n",
      "3\n",
      "4\n",
      "5\n"
     ]
    }
   ],
   "source": [
    "seq = [1,2,3,4,5]\n",
    "for item in seq:\n",
    "  print(item)"
   ]
  },
  {
   "cell_type": "code",
   "execution_count": 22,
   "id": "f5e6b713-ee52-4f2d-b8ec-acbc754c5366",
   "metadata": {},
   "outputs": [
    {
     "name": "stdout",
     "output_type": "stream",
     "text": [
      "0\n",
      "1\n",
      "2\n",
      "3\n",
      "4\n",
      "5\n",
      "6\n",
      "7\n",
      "8\n",
      "9\n"
     ]
    }
   ],
   "source": [
    "for x in range(0,10):\n",
    "  print(x)"
   ]
  },
  {
   "cell_type": "markdown",
   "id": "a15b835d-c67b-4607-84e8-b1efde559167",
   "metadata": {},
   "source": [
    "# Functions"
   ]
  },
  {
   "cell_type": "code",
   "execution_count": 23,
   "id": "8015d930-b5f7-4cf4-abb0-e82855b78293",
   "metadata": {},
   "outputs": [],
   "source": [
    "def square(num):\n",
    "  return num**2"
   ]
  },
  {
   "cell_type": "code",
   "execution_count": 24,
   "id": "e7863d89-c398-4db9-856c-9d4fa47e8793",
   "metadata": {},
   "outputs": [
    {
     "ename": "TypeError",
     "evalue": "square() missing 1 required positional argument: 'num'",
     "output_type": "error",
     "traceback": [
      "\u001b[0;31m---------------------------------------------------------------------------\u001b[0m",
      "\u001b[0;31mTypeError\u001b[0m                                 Traceback (most recent call last)",
      "Cell \u001b[0;32mIn[24], line 2\u001b[0m\n\u001b[1;32m      1\u001b[0m \u001b[38;5;66;03m#Error\u001b[39;00m\n\u001b[0;32m----> 2\u001b[0m \u001b[43msquare\u001b[49m\u001b[43m(\u001b[49m\u001b[43m)\u001b[49m\n",
      "\u001b[0;31mTypeError\u001b[0m: square() missing 1 required positional argument: 'num'"
     ]
    }
   ],
   "source": [
    "#Error\n",
    "square()"
   ]
  },
  {
   "cell_type": "code",
   "execution_count": 25,
   "id": "73abe1bc-bb07-4ca2-861d-c2dd47e005c7",
   "metadata": {},
   "outputs": [
    {
     "name": "stdout",
     "output_type": "stream",
     "text": [
      "1156\n"
     ]
    }
   ],
   "source": [
    "out=square(34)\n",
    "print(out)"
   ]
  },
  {
   "cell_type": "code",
   "execution_count": 26,
   "id": "fedc245b-0c63-42c0-8f3a-0019a85255d9",
   "metadata": {},
   "outputs": [],
   "source": [
    "#Documentation, defaults, keyword arguments\n",
    "def square(num=2, power=2):\n",
    "  \"\"\"\n",
    "  This is a documentation string\n",
    "  It can span multiple lines\n",
    "  Oh, by the way, this function squares a number\n",
    "  but you can overpower it\n",
    "  \"\"\"\n",
    "  return num**power"
   ]
  },
  {
   "cell_type": "code",
   "execution_count": 27,
   "id": "119cbad6-d8e5-4b85-9284-caf07a1d7023",
   "metadata": {},
   "outputs": [
    {
     "data": {
      "text/plain": [
       "125"
      ]
     },
     "execution_count": 27,
     "metadata": {},
     "output_type": "execute_result"
    }
   ],
   "source": [
    "square(power=3, num=5)"
   ]
  },
  {
   "cell_type": "markdown",
   "id": "9d72633f-d7a1-4155-a51c-172012ddfb3b",
   "metadata": {},
   "source": [
    "# NumPy"
   ]
  },
  {
   "cell_type": "code",
   "execution_count": 28,
   "id": "89eaa975-f68e-40a0-8a8b-c5ef21c79033",
   "metadata": {},
   "outputs": [],
   "source": [
    "import numpy as np"
   ]
  },
  {
   "cell_type": "code",
   "execution_count": 30,
   "id": "38ac7690-56ea-493f-a41f-726161d1767f",
   "metadata": {},
   "outputs": [
    {
     "name": "stdout",
     "output_type": "stream",
     "text": [
      "[1 2 3 4]\n",
      "<class 'numpy.ndarray'>\n",
      "1\n",
      "(4,)\n"
     ]
    }
   ],
   "source": [
    "x=np.array([1,2,3,4])\n",
    "print(x)\n",
    "print(type(x))\n",
    "print(np.ndim(x))\n",
    "print(np.shape(x))"
   ]
  },
  {
   "cell_type": "code",
   "execution_count": 31,
   "id": "0edd8c43-f050-4817-beec-1c81d55b8cfc",
   "metadata": {},
   "outputs": [
    {
     "name": "stdout",
     "output_type": "stream",
     "text": [
      "3 dimensional array: \n",
      "[[[ 1  2]\n",
      "  [ 3  4]]\n",
      "\n",
      " [[ 5  6]\n",
      "  [ 7  8]]\n",
      "\n",
      " [[ 9 10]\n",
      "  [11 12]]]\n",
      "number of dimensions:  3\n"
     ]
    }
   ],
   "source": [
    "x=np.array([[[1,2], [3,4]],\n",
    "            [[5,6], [7,8]],\n",
    "            [[9,10],[11,12]]])\n",
    "print(\"3 dimensional array: \")\n",
    "print(x)\n",
    "print(\"number of dimensions: \", x.ndim)"
   ]
  },
  {
   "cell_type": "code",
   "execution_count": 33,
   "id": "e3035b0b-8acd-447e-a0bb-c40a4492b49b",
   "metadata": {},
   "outputs": [
    {
     "name": "stdout",
     "output_type": "stream",
     "text": [
      "x ndim:  3\n",
      "x shape: (3, 2, 2)\n",
      "x size:  12\n"
     ]
    }
   ],
   "source": [
    "print(\"x ndim: \", x.ndim)\n",
    "print(\"x shape:\", x.shape)\n",
    "print(\"x size: \", x.size)"
   ]
  },
  {
   "cell_type": "markdown",
   "id": "59a0e983-c3e1-4e18-9bc0-3a29466467ab",
   "metadata": {},
   "source": [
    "# Pandas"
   ]
  },
  {
   "cell_type": "markdown",
   "id": "e0ac236a-3f3f-412e-81ab-c55258d58caa",
   "metadata": {},
   "source": [
    "https://pandas.pydata.org/docs/user_guide/10min.html#min\n",
    "\n",
    "https://pandas.pydata.org/Pandas_Cheat_Sheet.pdf"
   ]
  },
  {
   "cell_type": "code",
   "execution_count": 34,
   "id": "451905a6-9ed1-4f70-9b2c-5129fa814c09",
   "metadata": {},
   "outputs": [],
   "source": [
    "import pandas as pd\n"
   ]
  },
  {
   "cell_type": "code",
   "execution_count": 37,
   "id": "ccb02acb-ead4-4364-aa81-48f8fc804e3a",
   "metadata": {},
   "outputs": [],
   "source": [
    "s = pd.Series([1, 3, 5, np.nan, 6, 8])"
   ]
  },
  {
   "cell_type": "code",
   "execution_count": 38,
   "id": "db27e057-8e3a-4077-ad0e-7a4228dc3631",
   "metadata": {},
   "outputs": [
    {
     "data": {
      "text/plain": [
       "0    1.0\n",
       "1    3.0\n",
       "2    5.0\n",
       "3    NaN\n",
       "4    6.0\n",
       "5    8.0\n",
       "dtype: float64"
      ]
     },
     "execution_count": 38,
     "metadata": {},
     "output_type": "execute_result"
    }
   ],
   "source": [
    "s"
   ]
  },
  {
   "cell_type": "code",
   "execution_count": 42,
   "id": "cbe5db84-5392-4ee0-9dfd-841d941a0147",
   "metadata": {},
   "outputs": [],
   "source": [
    "data = {\n",
    "    'Campione': ['S1', 'S2', 'S3'],\n",
    "    'Bacteroides': [0.30, 0.25, 0.35],\n",
    "    'Lactobacillus': [0.10, 0.15, 0.05]\n",
    "}\n",
    "df = pd.DataFrame(data)"
   ]
  },
  {
   "cell_type": "code",
   "execution_count": 43,
   "id": "df96d52d-52cd-4c72-8b0b-aef56da9207a",
   "metadata": {},
   "outputs": [
    {
     "data": {
      "text/html": [
       "<div>\n",
       "<style scoped>\n",
       "    .dataframe tbody tr th:only-of-type {\n",
       "        vertical-align: middle;\n",
       "    }\n",
       "\n",
       "    .dataframe tbody tr th {\n",
       "        vertical-align: top;\n",
       "    }\n",
       "\n",
       "    .dataframe thead th {\n",
       "        text-align: right;\n",
       "    }\n",
       "</style>\n",
       "<table border=\"1\" class=\"dataframe\">\n",
       "  <thead>\n",
       "    <tr style=\"text-align: right;\">\n",
       "      <th></th>\n",
       "      <th>Campione</th>\n",
       "      <th>Bacteroides</th>\n",
       "      <th>Lactobacillus</th>\n",
       "    </tr>\n",
       "  </thead>\n",
       "  <tbody>\n",
       "    <tr>\n",
       "      <th>0</th>\n",
       "      <td>S1</td>\n",
       "      <td>0.30</td>\n",
       "      <td>0.10</td>\n",
       "    </tr>\n",
       "    <tr>\n",
       "      <th>1</th>\n",
       "      <td>S2</td>\n",
       "      <td>0.25</td>\n",
       "      <td>0.15</td>\n",
       "    </tr>\n",
       "    <tr>\n",
       "      <th>2</th>\n",
       "      <td>S3</td>\n",
       "      <td>0.35</td>\n",
       "      <td>0.05</td>\n",
       "    </tr>\n",
       "  </tbody>\n",
       "</table>\n",
       "</div>"
      ],
      "text/plain": [
       "  Campione  Bacteroides  Lactobacillus\n",
       "0       S1         0.30           0.10\n",
       "1       S2         0.25           0.15\n",
       "2       S3         0.35           0.05"
      ]
     },
     "execution_count": 43,
     "metadata": {},
     "output_type": "execute_result"
    }
   ],
   "source": [
    "df"
   ]
  },
  {
   "cell_type": "code",
   "execution_count": 48,
   "id": "7ab1b6b7-6607-425a-adfb-ef2ebfca2a60",
   "metadata": {},
   "outputs": [
    {
     "data": {
      "text/html": [
       "<div>\n",
       "<style scoped>\n",
       "    .dataframe tbody tr th:only-of-type {\n",
       "        vertical-align: middle;\n",
       "    }\n",
       "\n",
       "    .dataframe tbody tr th {\n",
       "        vertical-align: top;\n",
       "    }\n",
       "\n",
       "    .dataframe thead th {\n",
       "        text-align: right;\n",
       "    }\n",
       "</style>\n",
       "<table border=\"1\" class=\"dataframe\">\n",
       "  <thead>\n",
       "    <tr style=\"text-align: right;\">\n",
       "      <th></th>\n",
       "      <th>Campione</th>\n",
       "      <th>Bacteroides</th>\n",
       "      <th>Lactobacillus</th>\n",
       "      <th>Firmicutes</th>\n",
       "    </tr>\n",
       "  </thead>\n",
       "  <tbody>\n",
       "    <tr>\n",
       "      <th>0</th>\n",
       "      <td>S1</td>\n",
       "      <td>0.30</td>\n",
       "      <td>0.10</td>\n",
       "      <td>0.20</td>\n",
       "    </tr>\n",
       "    <tr>\n",
       "      <th>1</th>\n",
       "      <td>S2</td>\n",
       "      <td>0.25</td>\n",
       "      <td>0.15</td>\n",
       "      <td>0.30</td>\n",
       "    </tr>\n",
       "    <tr>\n",
       "      <th>2</th>\n",
       "      <td>S3</td>\n",
       "      <td>0.35</td>\n",
       "      <td>0.05</td>\n",
       "      <td>0.25</td>\n",
       "    </tr>\n",
       "  </tbody>\n",
       "</table>\n",
       "</div>"
      ],
      "text/plain": [
       "  Campione  Bacteroides  Lactobacillus  Firmicutes\n",
       "0       S1         0.30           0.10        0.20\n",
       "1       S2         0.25           0.15        0.30\n",
       "2       S3         0.35           0.05        0.25"
      ]
     },
     "execution_count": 48,
     "metadata": {},
     "output_type": "execute_result"
    }
   ],
   "source": [
    "# 📝 Task:Aggiungi una nuova colonna chiamata 'Firmicutes' con valori a tua scelta.\n",
    "df['Firmicutes'] = [0.20, 0.30, 0.25]\n",
    "df"
   ]
  },
  {
   "cell_type": "code",
   "execution_count": 52,
   "id": "4e51a1d1-c982-471b-b822-bad95da718e0",
   "metadata": {},
   "outputs": [
    {
     "data": {
      "text/plain": [
       "(3, 4)"
      ]
     },
     "execution_count": 52,
     "metadata": {},
     "output_type": "execute_result"
    }
   ],
   "source": [
    "# Dimensioni del DataFrame\n",
    "df.shape"
   ]
  },
  {
   "cell_type": "code",
   "execution_count": 54,
   "id": "8d3fbd20-6087-442f-85ab-26dffe67795c",
   "metadata": {},
   "outputs": [
    {
     "data": {
      "text/plain": [
       "Index(['Campione', 'Bacteroides', 'Lactobacillus', 'Firmicutes'], dtype='object')"
      ]
     },
     "execution_count": 54,
     "metadata": {},
     "output_type": "execute_result"
    }
   ],
   "source": [
    "# Nomi delle colonne\n",
    "df.columns"
   ]
  },
  {
   "cell_type": "code",
   "execution_count": 55,
   "id": "066adb65-6aad-4d84-a7e6-e6b925f45163",
   "metadata": {},
   "outputs": [
    {
     "data": {
      "text/html": [
       "<div>\n",
       "<style scoped>\n",
       "    .dataframe tbody tr th:only-of-type {\n",
       "        vertical-align: middle;\n",
       "    }\n",
       "\n",
       "    .dataframe tbody tr th {\n",
       "        vertical-align: top;\n",
       "    }\n",
       "\n",
       "    .dataframe thead th {\n",
       "        text-align: right;\n",
       "    }\n",
       "</style>\n",
       "<table border=\"1\" class=\"dataframe\">\n",
       "  <thead>\n",
       "    <tr style=\"text-align: right;\">\n",
       "      <th></th>\n",
       "      <th>Bacteroides</th>\n",
       "      <th>Lactobacillus</th>\n",
       "      <th>Firmicutes</th>\n",
       "    </tr>\n",
       "  </thead>\n",
       "  <tbody>\n",
       "    <tr>\n",
       "      <th>count</th>\n",
       "      <td>3.000</td>\n",
       "      <td>3.000</td>\n",
       "      <td>3.000</td>\n",
       "    </tr>\n",
       "    <tr>\n",
       "      <th>mean</th>\n",
       "      <td>0.300</td>\n",
       "      <td>0.100</td>\n",
       "      <td>0.250</td>\n",
       "    </tr>\n",
       "    <tr>\n",
       "      <th>std</th>\n",
       "      <td>0.050</td>\n",
       "      <td>0.050</td>\n",
       "      <td>0.050</td>\n",
       "    </tr>\n",
       "    <tr>\n",
       "      <th>min</th>\n",
       "      <td>0.250</td>\n",
       "      <td>0.050</td>\n",
       "      <td>0.200</td>\n",
       "    </tr>\n",
       "    <tr>\n",
       "      <th>25%</th>\n",
       "      <td>0.275</td>\n",
       "      <td>0.075</td>\n",
       "      <td>0.225</td>\n",
       "    </tr>\n",
       "    <tr>\n",
       "      <th>50%</th>\n",
       "      <td>0.300</td>\n",
       "      <td>0.100</td>\n",
       "      <td>0.250</td>\n",
       "    </tr>\n",
       "    <tr>\n",
       "      <th>75%</th>\n",
       "      <td>0.325</td>\n",
       "      <td>0.125</td>\n",
       "      <td>0.275</td>\n",
       "    </tr>\n",
       "    <tr>\n",
       "      <th>max</th>\n",
       "      <td>0.350</td>\n",
       "      <td>0.150</td>\n",
       "      <td>0.300</td>\n",
       "    </tr>\n",
       "  </tbody>\n",
       "</table>\n",
       "</div>"
      ],
      "text/plain": [
       "       Bacteroides  Lactobacillus  Firmicutes\n",
       "count        3.000          3.000       3.000\n",
       "mean         0.300          0.100       0.250\n",
       "std          0.050          0.050       0.050\n",
       "min          0.250          0.050       0.200\n",
       "25%          0.275          0.075       0.225\n",
       "50%          0.300          0.100       0.250\n",
       "75%          0.325          0.125       0.275\n",
       "max          0.350          0.150       0.300"
      ]
     },
     "execution_count": 55,
     "metadata": {},
     "output_type": "execute_result"
    }
   ],
   "source": [
    "# Statistiche descrittive\n",
    "df.describe()"
   ]
  },
  {
   "cell_type": "code",
   "execution_count": 56,
   "id": "de1eb3c4-b2a4-41c2-bbd2-cb70df5f3183",
   "metadata": {},
   "outputs": [
    {
     "data": {
      "text/plain": [
       "0    0.30\n",
       "1    0.25\n",
       "2    0.35\n",
       "Name: Bacteroides, dtype: float64"
      ]
     },
     "execution_count": 56,
     "metadata": {},
     "output_type": "execute_result"
    }
   ],
   "source": [
    "# Selezione di una colonna\n",
    "df['Bacteroides']"
   ]
  },
  {
   "cell_type": "code",
   "execution_count": 57,
   "id": "2f672da4-7ca5-4928-9234-cb50e94d07c3",
   "metadata": {},
   "outputs": [
    {
     "data": {
      "text/html": [
       "<div>\n",
       "<style scoped>\n",
       "    .dataframe tbody tr th:only-of-type {\n",
       "        vertical-align: middle;\n",
       "    }\n",
       "\n",
       "    .dataframe tbody tr th {\n",
       "        vertical-align: top;\n",
       "    }\n",
       "\n",
       "    .dataframe thead th {\n",
       "        text-align: right;\n",
       "    }\n",
       "</style>\n",
       "<table border=\"1\" class=\"dataframe\">\n",
       "  <thead>\n",
       "    <tr style=\"text-align: right;\">\n",
       "      <th></th>\n",
       "      <th>Campione</th>\n",
       "      <th>Bacteroides</th>\n",
       "      <th>Lactobacillus</th>\n",
       "      <th>Firmicutes</th>\n",
       "    </tr>\n",
       "  </thead>\n",
       "  <tbody>\n",
       "    <tr>\n",
       "      <th>0</th>\n",
       "      <td>S1</td>\n",
       "      <td>0.30</td>\n",
       "      <td>0.10</td>\n",
       "      <td>0.20</td>\n",
       "    </tr>\n",
       "    <tr>\n",
       "      <th>2</th>\n",
       "      <td>S3</td>\n",
       "      <td>0.35</td>\n",
       "      <td>0.05</td>\n",
       "      <td>0.25</td>\n",
       "    </tr>\n",
       "  </tbody>\n",
       "</table>\n",
       "</div>"
      ],
      "text/plain": [
       "  Campione  Bacteroides  Lactobacillus  Firmicutes\n",
       "0       S1         0.30           0.10        0.20\n",
       "2       S3         0.35           0.05        0.25"
      ]
     },
     "execution_count": 57,
     "metadata": {},
     "output_type": "execute_result"
    }
   ],
   "source": [
    "# Filtraggio di righe\n",
    "df[df['Bacteroides'] > 0.25]"
   ]
  },
  {
   "cell_type": "markdown",
   "id": "fc16f070-b662-4ebf-bc87-72a6f70b74d4",
   "metadata": {},
   "source": [
    "In pandas esistono vari modi per accedere agli elementi:\n",
    "\n",
    "df['colonna'] → seleziona una singola colonna\n",
    "\n",
    "df.loc[riga, colonna] → indicizzazione tramite etichette\n",
    "\n",
    "df.iloc[riga, colonna] → indicizzazione tramite posizione\n",
    "\n",
    "df.at[] e df.iat[] → come loc e iloc, ma più veloci per singoli elementi"
   ]
  },
  {
   "cell_type": "code",
   "execution_count": 59,
   "id": "eeb2d4ee-4a8e-4ff7-99c0-d637cc25b023",
   "metadata": {},
   "outputs": [
    {
     "data": {
      "text/html": [
       "<div>\n",
       "<style scoped>\n",
       "    .dataframe tbody tr th:only-of-type {\n",
       "        vertical-align: middle;\n",
       "    }\n",
       "\n",
       "    .dataframe tbody tr th {\n",
       "        vertical-align: top;\n",
       "    }\n",
       "\n",
       "    .dataframe thead th {\n",
       "        text-align: right;\n",
       "    }\n",
       "</style>\n",
       "<table border=\"1\" class=\"dataframe\">\n",
       "  <thead>\n",
       "    <tr style=\"text-align: right;\">\n",
       "      <th></th>\n",
       "      <th>0</th>\n",
       "      <th>1</th>\n",
       "      <th>2</th>\n",
       "    </tr>\n",
       "  </thead>\n",
       "  <tbody>\n",
       "    <tr>\n",
       "      <th>Campione</th>\n",
       "      <td>S1</td>\n",
       "      <td>S2</td>\n",
       "      <td>S3</td>\n",
       "    </tr>\n",
       "    <tr>\n",
       "      <th>Bacteroides</th>\n",
       "      <td>0.3</td>\n",
       "      <td>0.25</td>\n",
       "      <td>0.35</td>\n",
       "    </tr>\n",
       "    <tr>\n",
       "      <th>Lactobacillus</th>\n",
       "      <td>0.1</td>\n",
       "      <td>0.15</td>\n",
       "      <td>0.05</td>\n",
       "    </tr>\n",
       "    <tr>\n",
       "      <th>Firmicutes</th>\n",
       "      <td>0.2</td>\n",
       "      <td>0.3</td>\n",
       "      <td>0.25</td>\n",
       "    </tr>\n",
       "  </tbody>\n",
       "</table>\n",
       "</div>"
      ],
      "text/plain": [
       "                 0     1     2\n",
       "Campione        S1    S2    S3\n",
       "Bacteroides    0.3  0.25  0.35\n",
       "Lactobacillus  0.1  0.15  0.05\n",
       "Firmicutes     0.2   0.3  0.25"
      ]
     },
     "execution_count": 59,
     "metadata": {},
     "output_type": "execute_result"
    }
   ],
   "source": [
    "#Transposing your data:\n",
    "\n",
    "df.T"
   ]
  },
  {
   "cell_type": "markdown",
   "id": "ace984fa-6fce-4870-8341-1e86a2ac2a14",
   "metadata": {},
   "source": [
    "## Task: Esplora i dati\n"
   ]
  },
  {
   "cell_type": "code",
   "execution_count": 68,
   "id": "7e765cf7-9012-4c3e-b0d4-ddfb1249fb77",
   "metadata": {},
   "outputs": [],
   "source": [
    "df = pd.DataFrame({\n",
    "    'Sample': ['S1', 'S2', 'S3', 'S4', 'S5', 'S6'],\n",
    "    'Bacteroides': [0.30, 0.25, 0.35, 0.15, 0.40, 0.10],\n",
    "    'Firmicutes': [0.20, 0.30, 0.25, 0.22, 0.18, 0.28],\n",
    "    'Lactobacillus': [0.10, 0.12, 0.08, 0.20, 0.05, 0.15],\n",
    "    'Prevotella': [0.15, 0.05, 0.12, 0.18, 0.07, 0.10],\n",
    "    'Akkermansia': [0.03, 0.01, 0.04, 0.02, 0.05, 0.01],\n",
    "    'Outcome': [1, 0, 1, 0, 1, 0]  # 1 = malato, 0 = sano\n",
    "})"
   ]
  },
  {
   "cell_type": "markdown",
   "id": "92c57cae-f312-4cc4-bed0-4de2f6aeba55",
   "metadata": {},
   "source": [
    "Esegui i seguenti comandi e rispondi:\n",
    "\n",
    "Imposta la colonna \"Sample\" come indice del DataFrame\n",
    "\n",
    "Quante righe e colonne ha il DataFrame?\n",
    "\n",
    "Quali sono i nomi delle colonne?\n",
    "\n",
    "Quali sono le etichette delle righe (indice)?\n",
    "\n",
    "Seleziona la colonna Bacteroides\n",
    "\n",
    "Seleziona la riga relativa al campione S1\n",
    "\n",
    "Estrai l’elemento alla riga 2 (posizione 1), colonna 2 (posizione 1)\n",
    "\n",
    "Estrai il valore della colonna Firmicutes per il campione S6\n",
    "\n",
    "Mostra tutti i campioni in cui Firmicutes è maggiore di 0.25\n",
    "\n",
    "Mostra tutti i campioni con Outcome == 1"
   ]
  },
  {
   "cell_type": "markdown",
   "id": "de9387fc-5b95-4278-83b4-58d5e7adcec4",
   "metadata": {},
   "source": [
    "## Soluzione"
   ]
  },
  {
   "cell_type": "code",
   "execution_count": 69,
   "id": "af9dcfe8-84b2-4b38-b16d-7d26aa0c9b43",
   "metadata": {},
   "outputs": [
    {
     "name": "stdout",
     "output_type": "stream",
     "text": [
      "(6, 6)\n",
      "Index(['Bacteroides', 'Firmicutes', 'Lactobacillus', 'Prevotella',\n",
      "       'Akkermansia', 'Outcome'],\n",
      "      dtype='object')\n",
      "Index(['S1', 'S2', 'S3', 'S4', 'S5', 'S6'], dtype='object', name='Sample')\n",
      "Sample\n",
      "S1    0.30\n",
      "S2    0.25\n",
      "S3    0.35\n",
      "S4    0.15\n",
      "S5    0.40\n",
      "S6    0.10\n",
      "Name: Bacteroides, dtype: float64\n",
      "Bacteroides      0.30\n",
      "Firmicutes       0.20\n",
      "Lactobacillus    0.10\n",
      "Prevotella       0.15\n",
      "Akkermansia      0.03\n",
      "Outcome          1.00\n",
      "Name: S1, dtype: float64\n",
      "0.3\n",
      "0.28\n",
      "        Bacteroides  Firmicutes  Lactobacillus  Prevotella  Akkermansia  \\\n",
      "Sample                                                                    \n",
      "S2             0.25        0.30           0.12        0.05         0.01   \n",
      "S6             0.10        0.28           0.15        0.10         0.01   \n",
      "\n",
      "        Outcome  \n",
      "Sample           \n",
      "S2            0  \n",
      "S6            0  \n",
      "        Bacteroides  Firmicutes  Lactobacillus  Prevotella  Akkermansia  \\\n",
      "Sample                                                                    \n",
      "S1             0.30        0.20           0.10        0.15         0.03   \n",
      "S3             0.35        0.25           0.08        0.12         0.04   \n",
      "S5             0.40        0.18           0.05        0.07         0.05   \n",
      "\n",
      "        Outcome  \n",
      "Sample           \n",
      "S1            1  \n",
      "S3            1  \n",
      "S5            1  \n"
     ]
    }
   ],
   "source": [
    "# 1. Imposta 'Sample' come indice\n",
    "df = df.set_index('Sample')\n",
    "\n",
    "# 2. Dimensioni del DataFrame\n",
    "print(df.shape)\n",
    "\n",
    "# 3. Nomi delle colonne\n",
    "print(df.columns)\n",
    "\n",
    "# 4. Etichette delle righe\n",
    "print(df.index)\n",
    "\n",
    "# 5. Colonna 'Bacteroides'\n",
    "print(df['Bacteroides'])\n",
    "\n",
    "# 6. Riga del campione S1\n",
    "print(df.loc['S1'])\n",
    "\n",
    "# 7. Elemento riga 2, colonna 2 (usando ilocalizzazione)\n",
    "print(df.iloc[1, 1])\n",
    "\n",
    "# 8. Valore di 'Firmicutes' per S6\n",
    "print(df.loc['S6', 'Firmicutes'])\n",
    "\n",
    "# 9. Campioni con Firmicutes > 0.25\n",
    "print(df[df['Firmicutes'] > 0.25])\n",
    "\n",
    "# 10. Campioni con Outcome == 1\n",
    "print(df[df['Outcome'] == 1])\n"
   ]
  },
  {
   "cell_type": "markdown",
   "id": "eb53c530-8523-46e0-8d9b-97222f806404",
   "metadata": {},
   "source": [
    "## 📊 Visualizzazione dei dati con Seaborn\n",
    "https://seaborn.pydata.org/\n",
    "https://matplotlib.org/"
   ]
  },
  {
   "cell_type": "code",
   "execution_count": 70,
   "id": "fbdcb3ab-ea2f-476e-9b6f-6464cdb0f1aa",
   "metadata": {},
   "outputs": [],
   "source": [
    "import seaborn as sns\n",
    "import matplotlib.pyplot as plt"
   ]
  },
  {
   "cell_type": "code",
   "execution_count": 71,
   "id": "170b12d6-7e10-4fdb-9e95-5016f4c920d6",
   "metadata": {},
   "outputs": [
    {
     "data": {
      "text/html": [
       "<div>\n",
       "<style scoped>\n",
       "    .dataframe tbody tr th:only-of-type {\n",
       "        vertical-align: middle;\n",
       "    }\n",
       "\n",
       "    .dataframe tbody tr th {\n",
       "        vertical-align: top;\n",
       "    }\n",
       "\n",
       "    .dataframe thead th {\n",
       "        text-align: right;\n",
       "    }\n",
       "</style>\n",
       "<table border=\"1\" class=\"dataframe\">\n",
       "  <thead>\n",
       "    <tr style=\"text-align: right;\">\n",
       "      <th></th>\n",
       "      <th>Bacteroides</th>\n",
       "      <th>Firmicutes</th>\n",
       "      <th>Lactobacillus</th>\n",
       "      <th>Prevotella</th>\n",
       "      <th>Akkermansia</th>\n",
       "      <th>Outcome</th>\n",
       "    </tr>\n",
       "    <tr>\n",
       "      <th>Sample</th>\n",
       "      <th></th>\n",
       "      <th></th>\n",
       "      <th></th>\n",
       "      <th></th>\n",
       "      <th></th>\n",
       "      <th></th>\n",
       "    </tr>\n",
       "  </thead>\n",
       "  <tbody>\n",
       "    <tr>\n",
       "      <th>S1</th>\n",
       "      <td>0.30</td>\n",
       "      <td>0.20</td>\n",
       "      <td>0.10</td>\n",
       "      <td>0.15</td>\n",
       "      <td>0.03</td>\n",
       "      <td>1</td>\n",
       "    </tr>\n",
       "    <tr>\n",
       "      <th>S2</th>\n",
       "      <td>0.25</td>\n",
       "      <td>0.30</td>\n",
       "      <td>0.12</td>\n",
       "      <td>0.05</td>\n",
       "      <td>0.01</td>\n",
       "      <td>0</td>\n",
       "    </tr>\n",
       "    <tr>\n",
       "      <th>S3</th>\n",
       "      <td>0.35</td>\n",
       "      <td>0.25</td>\n",
       "      <td>0.08</td>\n",
       "      <td>0.12</td>\n",
       "      <td>0.04</td>\n",
       "      <td>1</td>\n",
       "    </tr>\n",
       "    <tr>\n",
       "      <th>S4</th>\n",
       "      <td>0.15</td>\n",
       "      <td>0.22</td>\n",
       "      <td>0.20</td>\n",
       "      <td>0.18</td>\n",
       "      <td>0.02</td>\n",
       "      <td>0</td>\n",
       "    </tr>\n",
       "    <tr>\n",
       "      <th>S5</th>\n",
       "      <td>0.40</td>\n",
       "      <td>0.18</td>\n",
       "      <td>0.05</td>\n",
       "      <td>0.07</td>\n",
       "      <td>0.05</td>\n",
       "      <td>1</td>\n",
       "    </tr>\n",
       "    <tr>\n",
       "      <th>S6</th>\n",
       "      <td>0.10</td>\n",
       "      <td>0.28</td>\n",
       "      <td>0.15</td>\n",
       "      <td>0.10</td>\n",
       "      <td>0.01</td>\n",
       "      <td>0</td>\n",
       "    </tr>\n",
       "  </tbody>\n",
       "</table>\n",
       "</div>"
      ],
      "text/plain": [
       "        Bacteroides  Firmicutes  Lactobacillus  Prevotella  Akkermansia  \\\n",
       "Sample                                                                    \n",
       "S1             0.30        0.20           0.10        0.15         0.03   \n",
       "S2             0.25        0.30           0.12        0.05         0.01   \n",
       "S3             0.35        0.25           0.08        0.12         0.04   \n",
       "S4             0.15        0.22           0.20        0.18         0.02   \n",
       "S5             0.40        0.18           0.05        0.07         0.05   \n",
       "S6             0.10        0.28           0.15        0.10         0.01   \n",
       "\n",
       "        Outcome  \n",
       "Sample           \n",
       "S1            1  \n",
       "S2            0  \n",
       "S3            1  \n",
       "S4            0  \n",
       "S5            1  \n",
       "S6            0  "
      ]
     },
     "execution_count": 71,
     "metadata": {},
     "output_type": "execute_result"
    }
   ],
   "source": [
    "df"
   ]
  },
  {
   "cell_type": "markdown",
   "id": "7c5f7c4f-82fe-4654-8302-b37067d60def",
   "metadata": {},
   "source": [
    "### Correlation Plot"
   ]
  },
  {
   "cell_type": "code",
   "execution_count": 73,
   "id": "87c0dd67-5ff5-4a0c-8286-048b905d3ee9",
   "metadata": {},
   "outputs": [
    {
     "data": {
      "image/png": "[encoded data removed]",
      "text/plain": [
       "<Figure size 800x600 with 2 Axes>"
      ]
     },
     "metadata": {},
     "output_type": "display_data"
    }
   ],
   "source": [
    "#Mostra la correlazione tra i batteri usando una heatmap.\n",
    "\n",
    "# calcolo matrice di correlazione\n",
    "corr = df.drop(columns='Outcome').corr()\n",
    "\n",
    "# heatmap\n",
    "plt.figure(figsize=(8,6))\n",
    "sns.heatmap(corr, annot=True, cmap='coolwarm')\n",
    "plt.title(\"Correlation Plot tra batteri\")\n",
    "plt.show()"
   ]
  },
  {
   "cell_type": "markdown",
   "id": "9e1e8e2c-c49d-4849-bbc6-2ac101c7a575",
   "metadata": {},
   "source": [
    "### Istogramma delle abbondanze di Bacteroides"
   ]
  },
  {
   "cell_type": "code",
   "execution_count": 75,
   "id": "819f9772-c8bb-411f-8e13-34056836d973",
   "metadata": {},
   "outputs": [
    {
     "data": {
      "image/png": "[encoded data removed]",
      "text/plain": [
       "<Figure size 640x480 with 1 Axes>"
      ]
     },
     "metadata": {},
     "output_type": "display_data"
    }
   ],
   "source": [
    "sns.histplot(data=df, x='Firmicutes', kde=True)\n",
    "plt.title(\"Distribuzione di Bacteroides\")\n",
    "plt.show()\n"
   ]
  },
  {
   "cell_type": "markdown",
   "id": "9375ea72-6364-4202-a37a-b891b9ad2570",
   "metadata": {},
   "source": [
    "### Boxplot per confrontare Firmicutes tra outcome"
   ]
  },
  {
   "cell_type": "code",
   "execution_count": 76,
   "id": "dfbd6e78-c637-41a6-baf7-9a04ffc85c87",
   "metadata": {},
   "outputs": [
    {
     "data": {
      "image/png": "[encoded data removed]",
      "text/plain": [
       "<Figure size 640x480 with 1 Axes>"
      ]
     },
     "metadata": {},
     "output_type": "display_data"
    }
   ],
   "source": [
    "sns.boxplot(data=df, x='Outcome', y='Firmicutes')\n",
    "plt.title(\"Distribuzione di Firmicutes per outcome\")\n",
    "plt.show()\n"
   ]
  },
  {
   "cell_type": "markdown",
   "id": "d40da2e7-3a84-4185-9283-e9e218450ea4",
   "metadata": {},
   "source": [
    "### Scatter plot tra Bacteroides e Firmicutes"
   ]
  },
  {
   "cell_type": "code",
   "execution_count": 79,
   "id": "3d92c60e-a71c-4499-9a82-411f97e30189",
   "metadata": {},
   "outputs": [
    {
     "data": {
      "image/png": "[encoded data removed]",
      "text/plain": [
       "<Figure size 640x480 with 1 Axes>"
      ]
     },
     "metadata": {},
     "output_type": "display_data"
    }
   ],
   "source": [
    "sns.scatterplot(data=df, x='Bacteroides', y='Firmicutes', hue='Outcome', style='Outcome')\n",
    "plt.title(\"Relazione tra Bacteroides e Firmicutes\")\n",
    "plt.show()\n"
   ]
  },
  {
   "cell_type": "markdown",
   "id": "e99ef25e-9328-4b4a-b4cf-e393e24ce615",
   "metadata": {},
   "source": [
    "### Barplot della media di Lactobacillus per outcome"
   ]
  },
  {
   "cell_type": "code",
   "execution_count": 80,
   "id": "c725314e-e711-45bb-8cb1-b4781edde731",
   "metadata": {},
   "outputs": [
    {
     "data": {
      "image/png": "[encoded data removed]",
      "text/plain": [
       "<Figure size 640x480 with 1 Axes>"
      ]
     },
     "metadata": {},
     "output_type": "display_data"
    }
   ],
   "source": [
    "sns.barplot(data=df, x='Outcome', y='Lactobacillus', estimator='mean')\n",
    "plt.title(\"Media di Lactobacillus per outcome\")\n",
    "plt.show()\n"
   ]
  },
  {
   "cell_type": "markdown",
   "id": "4c445e9e-f42b-4650-8ac8-98927378d9d2",
   "metadata": {},
   "source": [
    "# 📁 Lettura di un file .csv\n",
    "https://gut.bmj.com/content/66/1/70"
   ]
  },
  {
   "cell_type": "code",
   "execution_count": 97,
   "id": "eeb39a6f-0583-42b5-b656-6521f6955c01",
   "metadata": {},
   "outputs": [
    {
     "data": {
      "text/html": [
       "<div>\n",
       "<style scoped>\n",
       "    .dataframe tbody tr th:only-of-type {\n",
       "        vertical-align: middle;\n",
       "    }\n",
       "\n",
       "    .dataframe tbody tr th {\n",
       "        vertical-align: top;\n",
       "    }\n",
       "\n",
       "    .dataframe thead th {\n",
       "        text-align: right;\n",
       "    }\n",
       "</style>\n",
       "<table border=\"1\" class=\"dataframe\">\n",
       "  <thead>\n",
       "    <tr style=\"text-align: right;\">\n",
       "      <th></th>\n",
       "      <th>msp_0001</th>\n",
       "      <th>msp_0002</th>\n",
       "      <th>msp_0003</th>\n",
       "      <th>msp_0004</th>\n",
       "      <th>msp_0005</th>\n",
       "      <th>msp_0006</th>\n",
       "      <th>msp_0007</th>\n",
       "      <th>msp_0008</th>\n",
       "      <th>msp_0009</th>\n",
       "      <th>msp_0010</th>\n",
       "      <th>...</th>\n",
       "      <th>msp_2178</th>\n",
       "      <th>msp_2180</th>\n",
       "      <th>msp_2191</th>\n",
       "      <th>msp_2195</th>\n",
       "      <th>msp_2196</th>\n",
       "      <th>msp_2207</th>\n",
       "      <th>msp_2209</th>\n",
       "      <th>msp_2210</th>\n",
       "      <th>msp_2211</th>\n",
       "      <th>health_status</th>\n",
       "    </tr>\n",
       "  </thead>\n",
       "  <tbody>\n",
       "    <tr>\n",
       "      <th>ERS848618</th>\n",
       "      <td>0.0</td>\n",
       "      <td>0.0</td>\n",
       "      <td>0.000000e+00</td>\n",
       "      <td>0.0</td>\n",
       "      <td>1.552808e+08</td>\n",
       "      <td>0.0</td>\n",
       "      <td>0.000000e+00</td>\n",
       "      <td>0.000000e+00</td>\n",
       "      <td>6.948606e+06</td>\n",
       "      <td>1.083289e+07</td>\n",
       "      <td>...</td>\n",
       "      <td>0.0</td>\n",
       "      <td>0.0</td>\n",
       "      <td>0.0</td>\n",
       "      <td>0.0</td>\n",
       "      <td>0.0</td>\n",
       "      <td>0.0</td>\n",
       "      <td>0.0</td>\n",
       "      <td>0.0</td>\n",
       "      <td>0.0</td>\n",
       "      <td>P</td>\n",
       "    </tr>\n",
       "    <tr>\n",
       "      <th>ERS848619</th>\n",
       "      <td>0.0</td>\n",
       "      <td>0.0</td>\n",
       "      <td>1.923740e+07</td>\n",
       "      <td>0.0</td>\n",
       "      <td>2.550404e+09</td>\n",
       "      <td>0.0</td>\n",
       "      <td>6.040953e+06</td>\n",
       "      <td>9.608026e+05</td>\n",
       "      <td>7.051971e+05</td>\n",
       "      <td>4.020733e+07</td>\n",
       "      <td>...</td>\n",
       "      <td>0.0</td>\n",
       "      <td>0.0</td>\n",
       "      <td>0.0</td>\n",
       "      <td>0.0</td>\n",
       "      <td>0.0</td>\n",
       "      <td>0.0</td>\n",
       "      <td>0.0</td>\n",
       "      <td>0.0</td>\n",
       "      <td>0.0</td>\n",
       "      <td>P</td>\n",
       "    </tr>\n",
       "    <tr>\n",
       "      <th>ERS848620</th>\n",
       "      <td>0.0</td>\n",
       "      <td>0.0</td>\n",
       "      <td>4.459996e+07</td>\n",
       "      <td>0.0</td>\n",
       "      <td>2.702459e+07</td>\n",
       "      <td>0.0</td>\n",
       "      <td>5.676616e+08</td>\n",
       "      <td>8.623771e+05</td>\n",
       "      <td>6.176406e+06</td>\n",
       "      <td>5.150749e+05</td>\n",
       "      <td>...</td>\n",
       "      <td>0.0</td>\n",
       "      <td>0.0</td>\n",
       "      <td>0.0</td>\n",
       "      <td>0.0</td>\n",
       "      <td>0.0</td>\n",
       "      <td>0.0</td>\n",
       "      <td>0.0</td>\n",
       "      <td>0.0</td>\n",
       "      <td>0.0</td>\n",
       "      <td>P</td>\n",
       "    </tr>\n",
       "    <tr>\n",
       "      <th>ERS848621</th>\n",
       "      <td>0.0</td>\n",
       "      <td>0.0</td>\n",
       "      <td>0.000000e+00</td>\n",
       "      <td>0.0</td>\n",
       "      <td>8.939921e+07</td>\n",
       "      <td>0.0</td>\n",
       "      <td>1.490348e+06</td>\n",
       "      <td>2.334092e+06</td>\n",
       "      <td>9.420152e+05</td>\n",
       "      <td>2.575010e+07</td>\n",
       "      <td>...</td>\n",
       "      <td>0.0</td>\n",
       "      <td>0.0</td>\n",
       "      <td>0.0</td>\n",
       "      <td>0.0</td>\n",
       "      <td>0.0</td>\n",
       "      <td>0.0</td>\n",
       "      <td>0.0</td>\n",
       "      <td>0.0</td>\n",
       "      <td>0.0</td>\n",
       "      <td>P</td>\n",
       "    </tr>\n",
       "    <tr>\n",
       "      <th>ERS848622</th>\n",
       "      <td>0.0</td>\n",
       "      <td>0.0</td>\n",
       "      <td>4.901429e+07</td>\n",
       "      <td>0.0</td>\n",
       "      <td>1.429887e+08</td>\n",
       "      <td>0.0</td>\n",
       "      <td>3.024163e+06</td>\n",
       "      <td>0.000000e+00</td>\n",
       "      <td>5.091330e+07</td>\n",
       "      <td>1.334608e+08</td>\n",
       "      <td>...</td>\n",
       "      <td>0.0</td>\n",
       "      <td>0.0</td>\n",
       "      <td>0.0</td>\n",
       "      <td>0.0</td>\n",
       "      <td>0.0</td>\n",
       "      <td>0.0</td>\n",
       "      <td>0.0</td>\n",
       "      <td>0.0</td>\n",
       "      <td>0.0</td>\n",
       "      <td>P</td>\n",
       "    </tr>\n",
       "  </tbody>\n",
       "</table>\n",
       "<p>5 rows × 1991 columns</p>\n",
       "</div>"
      ],
      "text/plain": [
       "           msp_0001  msp_0002      msp_0003  msp_0004      msp_0005  msp_0006  \\\n",
       "ERS848618       0.0       0.0  0.000000e+00       0.0  1.552808e+08       0.0   \n",
       "ERS848619       0.0       0.0  1.923740e+07       0.0  2.550404e+09       0.0   \n",
       "ERS848620       0.0       0.0  4.459996e+07       0.0  2.702459e+07       0.0   \n",
       "ERS848621       0.0       0.0  0.000000e+00       0.0  8.939921e+07       0.0   \n",
       "ERS848622       0.0       0.0  4.901429e+07       0.0  1.429887e+08       0.0   \n",
       "\n",
       "               msp_0007      msp_0008      msp_0009      msp_0010  ...  \\\n",
       "ERS848618  0.000000e+00  0.000000e+00  6.948606e+06  1.083289e+07  ...   \n",
       "ERS848619  6.040953e+06  9.608026e+05  7.051971e+05  4.020733e+07  ...   \n",
       "ERS848620  5.676616e+08  8.623771e+05  6.176406e+06  5.150749e+05  ...   \n",
       "ERS848621  1.490348e+06  2.334092e+06  9.420152e+05  2.575010e+07  ...   \n",
       "ERS848622  3.024163e+06  0.000000e+00  5.091330e+07  1.334608e+08  ...   \n",
       "\n",
       "           msp_2178  msp_2180  msp_2191  msp_2195  msp_2196  msp_2207  \\\n",
       "ERS848618       0.0       0.0       0.0       0.0       0.0       0.0   \n",
       "ERS848619       0.0       0.0       0.0       0.0       0.0       0.0   \n",
       "ERS848620       0.0       0.0       0.0       0.0       0.0       0.0   \n",
       "ERS848621       0.0       0.0       0.0       0.0       0.0       0.0   \n",
       "ERS848622       0.0       0.0       0.0       0.0       0.0       0.0   \n",
       "\n",
       "           msp_2209  msp_2210  msp_2211  health_status  \n",
       "ERS848618       0.0       0.0       0.0              P  \n",
       "ERS848619       0.0       0.0       0.0              P  \n",
       "ERS848620       0.0       0.0       0.0              P  \n",
       "ERS848621       0.0       0.0       0.0              P  \n",
       "ERS848622       0.0       0.0       0.0              P  \n",
       "\n",
       "[5 rows x 1991 columns]"
      ]
     },
     "execution_count": 97,
     "metadata": {},
     "output_type": "execute_result"
    }
   ],
   "source": [
    "df_csv = pd.read_csv('df_chn.csv',index_col=0)\n",
    "df_csv.head()"
   ]
  },
  {
   "cell_type": "code",
   "execution_count": 98,
   "id": "53e4538b-755b-47f3-9c4a-4b7778102da2",
   "metadata": {},
   "outputs": [
    {
     "data": {
      "text/html": [
       "<div>\n",
       "<style scoped>\n",
       "    .dataframe tbody tr th:only-of-type {\n",
       "        vertical-align: middle;\n",
       "    }\n",
       "\n",
       "    .dataframe tbody tr th {\n",
       "        vertical-align: top;\n",
       "    }\n",
       "\n",
       "    .dataframe thead th {\n",
       "        text-align: right;\n",
       "    }\n",
       "</style>\n",
       "<table border=\"1\" class=\"dataframe\">\n",
       "  <thead>\n",
       "    <tr style=\"text-align: right;\">\n",
       "      <th></th>\n",
       "      <th>msp_0001</th>\n",
       "      <th>msp_0002</th>\n",
       "      <th>msp_0003</th>\n",
       "      <th>msp_0004</th>\n",
       "      <th>msp_0005</th>\n",
       "      <th>msp_0006</th>\n",
       "      <th>msp_0007</th>\n",
       "      <th>msp_0008</th>\n",
       "      <th>msp_0009</th>\n",
       "      <th>msp_0010</th>\n",
       "      <th>...</th>\n",
       "      <th>msp_2178</th>\n",
       "      <th>msp_2180</th>\n",
       "      <th>msp_2191</th>\n",
       "      <th>msp_2195</th>\n",
       "      <th>msp_2196</th>\n",
       "      <th>msp_2207</th>\n",
       "      <th>msp_2209</th>\n",
       "      <th>msp_2210</th>\n",
       "      <th>msp_2211</th>\n",
       "      <th>health_status</th>\n",
       "    </tr>\n",
       "  </thead>\n",
       "  <tbody>\n",
       "    <tr>\n",
       "      <th>ERS848618</th>\n",
       "      <td>0.0</td>\n",
       "      <td>0.0</td>\n",
       "      <td>0.000000e+00</td>\n",
       "      <td>0.0</td>\n",
       "      <td>1.552808e+08</td>\n",
       "      <td>0.0</td>\n",
       "      <td>0.000000e+00</td>\n",
       "      <td>0.000000</td>\n",
       "      <td>6.948606e+06</td>\n",
       "      <td>1.083289e+07</td>\n",
       "      <td>...</td>\n",
       "      <td>0.0</td>\n",
       "      <td>0.0</td>\n",
       "      <td>0.0</td>\n",
       "      <td>0.0</td>\n",
       "      <td>0.0</td>\n",
       "      <td>0.0</td>\n",
       "      <td>0.0</td>\n",
       "      <td>0.0</td>\n",
       "      <td>0.0</td>\n",
       "      <td>P</td>\n",
       "    </tr>\n",
       "    <tr>\n",
       "      <th>ERS848619</th>\n",
       "      <td>0.0</td>\n",
       "      <td>0.0</td>\n",
       "      <td>1.923740e+07</td>\n",
       "      <td>0.0</td>\n",
       "      <td>2.550404e+09</td>\n",
       "      <td>0.0</td>\n",
       "      <td>6.040953e+06</td>\n",
       "      <td>960802.637358</td>\n",
       "      <td>7.051971e+05</td>\n",
       "      <td>4.020733e+07</td>\n",
       "      <td>...</td>\n",
       "      <td>0.0</td>\n",
       "      <td>0.0</td>\n",
       "      <td>0.0</td>\n",
       "      <td>0.0</td>\n",
       "      <td>0.0</td>\n",
       "      <td>0.0</td>\n",
       "      <td>0.0</td>\n",
       "      <td>0.0</td>\n",
       "      <td>0.0</td>\n",
       "      <td>P</td>\n",
       "    </tr>\n",
       "    <tr>\n",
       "      <th>ERS848620</th>\n",
       "      <td>0.0</td>\n",
       "      <td>0.0</td>\n",
       "      <td>4.459996e+07</td>\n",
       "      <td>0.0</td>\n",
       "      <td>2.702459e+07</td>\n",
       "      <td>0.0</td>\n",
       "      <td>5.676616e+08</td>\n",
       "      <td>862377.089315</td>\n",
       "      <td>6.176406e+06</td>\n",
       "      <td>5.150749e+05</td>\n",
       "      <td>...</td>\n",
       "      <td>0.0</td>\n",
       "      <td>0.0</td>\n",
       "      <td>0.0</td>\n",
       "      <td>0.0</td>\n",
       "      <td>0.0</td>\n",
       "      <td>0.0</td>\n",
       "      <td>0.0</td>\n",
       "      <td>0.0</td>\n",
       "      <td>0.0</td>\n",
       "      <td>P</td>\n",
       "    </tr>\n",
       "  </tbody>\n",
       "</table>\n",
       "<p>3 rows × 1991 columns</p>\n",
       "</div>"
      ],
      "text/plain": [
       "           msp_0001  msp_0002      msp_0003  msp_0004      msp_0005  msp_0006  \\\n",
       "ERS848618       0.0       0.0  0.000000e+00       0.0  1.552808e+08       0.0   \n",
       "ERS848619       0.0       0.0  1.923740e+07       0.0  2.550404e+09       0.0   \n",
       "ERS848620       0.0       0.0  4.459996e+07       0.0  2.702459e+07       0.0   \n",
       "\n",
       "               msp_0007       msp_0008      msp_0009      msp_0010  ...  \\\n",
       "ERS848618  0.000000e+00       0.000000  6.948606e+06  1.083289e+07  ...   \n",
       "ERS848619  6.040953e+06  960802.637358  7.051971e+05  4.020733e+07  ...   \n",
       "ERS848620  5.676616e+08  862377.089315  6.176406e+06  5.150749e+05  ...   \n",
       "\n",
       "           msp_2178  msp_2180  msp_2191  msp_2195  msp_2196  msp_2207  \\\n",
       "ERS848618       0.0       0.0       0.0       0.0       0.0       0.0   \n",
       "ERS848619       0.0       0.0       0.0       0.0       0.0       0.0   \n",
       "ERS848620       0.0       0.0       0.0       0.0       0.0       0.0   \n",
       "\n",
       "           msp_2209  msp_2210  msp_2211  health_status  \n",
       "ERS848618       0.0       0.0       0.0              P  \n",
       "ERS848619       0.0       0.0       0.0              P  \n",
       "ERS848620       0.0       0.0       0.0              P  \n",
       "\n",
       "[3 rows x 1991 columns]"
      ]
     },
     "execution_count": 98,
     "metadata": {},
     "output_type": "execute_result"
    }
   ],
   "source": [
    "#📝 Task:\n",
    "#Visualizza solo le prime 3 righe del DataFrame.\n",
    "\n",
    "\n",
    "df_csv.head(3)"
   ]
  },
  {
   "cell_type": "markdown",
   "id": "6709e09f-aee8-4346-9edd-c9e4b5ebe28e",
   "metadata": {},
   "source": [
    "### task: Quante righe (campioni) e quante colonne (featuremicrobiche) ci sono nel dataset?\n",
    " Hint: usa il metodo .shape per ottenere il numero di righe e colonne di un DataFrame.\n"
   ]
  },
  {
   "cell_type": "markdown",
   "id": "40e44933-ef6b-4e63-97b2-3d291604d8d3",
   "metadata": {
    "jp-MarkdownHeadingCollapsed": true
   },
   "source": [
    "### soluzione"
   ]
  },
  {
   "cell_type": "code",
   "execution_count": 100,
   "id": "3298a9ba-2cce-40bc-9777-b9fc4ce25af5",
   "metadata": {},
   "outputs": [
    {
     "name": "stdout",
     "output_type": "stream",
     "text": [
      "Numero di righe (campioni): 128\n",
      "Numero di colonne (feature): 1991\n"
     ]
    }
   ],
   "source": [
    "#📝  Quante righe (campioni) e quante colonne (feature + metadata) ci sono nel dataset?\n",
    "\n",
    "print(\"Numero di righe (campioni):\", df_csv.shape[0])\n",
    "print(\"Numero di colonne (feature):\", df_csv.shape[1])\n"
   ]
  },
  {
   "cell_type": "markdown",
   "id": "8c200995-fd99-49ca-8031-9452ee12a474",
   "metadata": {},
   "source": [
    "### task:1) Qual è la distribuzione della variabile health_status? 2)rinomina la variabile come binaria 3) Visualizza la distribuzione dei gruppi di salute (health_status)\n",
    "\n",
    "Hint: -usa il metodo .value_counts() per contare quante volte compare ciascun valore nella colonna health_status.\n",
    "-usa il metodo .map per rinominare la variabile come binaria\n",
    "-usa sns.countplot() per creare un grafico a barre che mostra il numero di campioni per ciascun gruppo "
   ]
  },
  {
   "cell_type": "markdown",
   "id": "8f0b737a-c399-486d-9b7b-893dfb066554",
   "metadata": {
    "jp-MarkdownHeadingCollapsed": true
   },
   "source": [
    "### soluzione"
   ]
  },
  {
   "cell_type": "code",
   "execution_count": 101,
   "id": "477de8c0-bf00-45b6-913e-20ea23601278",
   "metadata": {},
   "outputs": [
    {
     "data": {
      "text/plain": [
       "health_status\n",
       "P    74\n",
       "H    54\n",
       "Name: count, dtype: int64"
      ]
     },
     "execution_count": 101,
     "metadata": {},
     "output_type": "execute_result"
    }
   ],
   "source": [
    "# Qual è la distribuzione della variabile health_status?\n",
    "df_csv['health_status'].value_counts()\n"
   ]
  },
  {
   "cell_type": "code",
   "execution_count": 102,
   "id": "0e9e0e37-b616-4a44-8f90-279c689bab81",
   "metadata": {},
   "outputs": [
    {
     "data": {
      "text/plain": [
       "health_status\n",
       "1    74\n",
       "0    54\n",
       "Name: count, dtype: int64"
      ]
     },
     "execution_count": 102,
     "metadata": {},
     "output_type": "execute_result"
    }
   ],
   "source": [
    "# Rinomina la variabile health_status come binaria:\n",
    "df_csv['health_status'] = df_csv['health_status'].map({'H': 0, 'P': 1})\n",
    "df_csv['health_status'].value_counts()\n"
   ]
  },
  {
   "cell_type": "code",
   "execution_count": 106,
   "id": "8b5d0e1a-9ed2-45f2-8fa4-4905a1e85476",
   "metadata": {},
   "outputs": [
    {
     "data": {
      "image/png": "[encoded data removed]",
      "text/plain": [
       "<Figure size 640x480 with 1 Axes>"
      ]
     },
     "metadata": {},
     "output_type": "display_data"
    }
   ],
   "source": [
    "\n",
    "sns.countplot(x='health_status', data=df_csv)\n",
    "plt.xticks([0, 1], ['Healthy (0)', 'Patient (1)'])\n",
    "plt.title(\"Distribuzione dei gruppi di salute\")\n",
    "plt.show()\n"
   ]
  },
  {
   "cell_type": "markdown",
   "id": "0b6ab07c-f1f1-4b34-976c-f8659403c633",
   "metadata": {},
   "source": [
    "### Task: Per ciascun campione, quante feature hanno valore diverso da zero?"
   ]
  },
  {
   "cell_type": "code",
   "execution_count": 113,
   "id": "17096b7e-57e9-4cc5-9c7e-e5246c8ca9f8",
   "metadata": {},
   "outputs": [],
   "source": [
    "df_features = df_csv.drop(columns='health_status')  # rimuovi la colonna target\n",
    "non_zero_counts = (df_features > 0).sum(axis=1)"
   ]
  },
  {
   "cell_type": "code",
   "execution_count": 115,
   "id": "b7ac43d7-8b62-4a9b-826e-9afc08022be6",
   "metadata": {},
   "outputs": [
    {
     "data": {
      "image/png": "[encoded data removed]",
      "text/plain": [
       "<Figure size 640x480 with 1 Axes>"
      ]
     },
     "metadata": {},
     "output_type": "display_data"
    }
   ],
   "source": [
    "\n",
    "sns.histplot(non_zero_counts)\n",
    "plt.title(\"Numero di feature non nulle per campione\")\n",
    "plt.xlabel(\"Feature > 0\")\n",
    "plt.ylabel(\"Numero di campioni\")\n",
    "plt.show()\n"
   ]
  },
  {
   "cell_type": "code",
   "execution_count": 116,
   "id": "f97c6497-6981-4d71-99cf-9c0704ddc729",
   "metadata": {},
   "outputs": [
    {
     "data": {
      "text/plain": [
       "ERS848618    181\n",
       "ERS848619    355\n",
       "ERS848620    196\n",
       "ERS848621    268\n",
       "ERS848622    196\n",
       "            ... \n",
       "ERS848741    221\n",
       "ERS848742    286\n",
       "ERS848743    254\n",
       "ERS848744    275\n",
       "ERS848745    270\n",
       "Length: 128, dtype: int64"
      ]
     },
     "execution_count": 116,
     "metadata": {},
     "output_type": "execute_result"
    }
   ],
   "source": [
    "non_zero_counts"
   ]
  },
  {
   "cell_type": "markdown",
   "id": "7ea1ae5e-ef81-49d6-bd3f-6d0f1165c96e",
   "metadata": {},
   "source": [
    "### Quali sono le 10 MSP (feature) con la somma totale più alta?"
   ]
  },
  {
   "cell_type": "code",
   "execution_count": 117,
   "id": "e03eb55f-e087-45f6-87f5-856e07d806b1",
   "metadata": {},
   "outputs": [
    {
     "data": {
      "text/plain": [
       "msp_0005    2.474701e+14\n",
       "msp_0041    2.200993e+14\n",
       "msp_0010    2.129100e+14\n",
       "msp_0025    2.057714e+14\n",
       "msp_0069    1.426780e+13\n",
       "msp_1244    1.043955e+13\n",
       "msp_0045    8.446402e+10\n",
       "msp_0046    7.523836e+10\n",
       "msp_0271    6.622293e+10\n",
       "msp_0134    4.361762e+10\n",
       "dtype: float64"
      ]
     },
     "execution_count": 117,
     "metadata": {},
     "output_type": "execute_result"
    }
   ],
   "source": [
    "top_features = df_features.sum().sort_values(ascending=False).head(10)\n",
    "top_features"
   ]
  },
  {
   "cell_type": "code",
   "execution_count": 118,
   "id": "24377b57-dbad-4029-9b3d-60a354bc6581",
   "metadata": {},
   "outputs": [
    {
     "data": {
      "image/png": "[encoded data removed]",
      "text/plain": [
       "<Figure size 640x480 with 1 Axes>"
      ]
     },
     "metadata": {},
     "output_type": "display_data"
    }
   ],
   "source": [
    "top_features.plot(kind='bar')\n",
    "plt.title('Top 10 MSP più abbondanti nel dataset')\n",
    "plt.ylabel('Somma totale')\n",
    "plt.xticks(rotation=45)\n",
    "plt.tight_layout()\n",
    "plt.show()\n"
   ]
  },
  {
   "cell_type": "markdown",
   "id": "0049549b-404d-4b88-9c57-12581b78147a",
   "metadata": {},
   "source": [
    "# data preprocessing"
   ]
  },
  {
   "cell_type": "markdown",
   "id": "ea678267-4ff7-4bcc-811a-035117aeb264",
   "metadata": {},
   "source": [
    "## Rimozione delle feature troppo sparse\n",
    "In dataset microbiomici ad alta dimensionalità, molte feature sono quasi sempre nulle. Queste feature possono introdurre rumore inutile e peggiorare le analisi.\n",
    "Per questo motivo, è utile rimuovere le colonne (feature) che sono quasi sempre a zero.\n",
    "\n"
   ]
  },
  {
   "cell_type": "code",
   "execution_count": 120,
   "id": "bb2a6227-5846-417a-bdc7-22b13799c36e",
   "metadata": {},
   "outputs": [],
   "source": [
    "#Questa funzione rimuove le colonne che contengono zero in più del percentage% dei campioni.\n",
    "def drop_almost_zero(df, percentage):\n",
    "    column_cut_off = int(percentage / 100 * len(df))  # massimo numero di zeri ammessi\n",
    "    zero_counts = (df == 0).sum(axis=0)               # conta gli zeri per colonna\n",
    "    df_filtered = df[zero_counts[zero_counts <= column_cut_off].index]\n",
    "    return df_filtered\n"
   ]
  },
  {
   "cell_type": "markdown",
   "id": "4a1f11f7-6f41-4f1f-9184-b9b74f72a415",
   "metadata": {},
   "source": [
    "## Task – Applica la funzione con una soglia del 90%. Quante feature sono rimaste dopo il filtraggio?\n",
    "\n",
    " Hint: devi passare al parametro percentage il valore 90.\n",
    "ricordati di rimuovere dal df la colonna health_status\n"
   ]
  },
  {
   "cell_type": "markdown",
   "id": "5c7776db-7499-4950-ad93-5c21f03eed31",
   "metadata": {},
   "source": [
    "## soluzione"
   ]
  },
  {
   "cell_type": "code",
   "execution_count": 121,
   "id": "faf24f26-b4a8-445f-b588-dc93cc292911",
   "metadata": {},
   "outputs": [],
   "source": [
    "df_features = df_csv.drop(columns='health_status')\n",
    "df_filtered = drop_almost_zero(df_features, percentage=90)\n"
   ]
  },
  {
   "cell_type": "code",
   "execution_count": 122,
   "id": "8cd11aa0-7a0e-4e65-ada5-2a4077bcba3c",
   "metadata": {},
   "outputs": [
    {
     "name": "stdout",
     "output_type": "stream",
     "text": [
      "Numero di feature dopo il filtraggio: 510\n"
     ]
    }
   ],
   "source": [
    "print(f\"Numero di feature dopo il filtraggio: {df_filtered.shape[1]}\")\n"
   ]
  },
  {
   "cell_type": "markdown",
   "id": "f4cf78fe-dbce-48a4-8671-117a4361a5f7",
   "metadata": {},
   "source": [
    "## Task: Trasformazione dei dati composizionali: sostituzione degli zeri e CLR\n",
    "Hint: consulta la documentazione del modulo skbio.stats.composition per lavorare con dati composizionali:https://scikit.bio/docs/dev/generated/skbio.stats.composition.html"
   ]
  },
  {
   "cell_type": "markdown",
   "id": "643a056f-be20-46b1-b221-7c95a94c3f91",
   "metadata": {
    "jp-MarkdownHeadingCollapsed": true
   },
   "source": [
    "## soluzione"
   ]
  },
  {
   "cell_type": "code",
   "execution_count": 124,
   "id": "3f1ec3d7-9a1e-49ff-a936-29de260a4ce0",
   "metadata": {},
   "outputs": [],
   "source": [
    "from skbio.stats.composition import multi_replace,clr\n",
    "# STEP 2: sostituisci gli zeri con valori piccoli coerenti con il compositional data\n",
    "X_arr = multi_replace(df_filtered)\n",
    "# Applichi CLR\n",
    "X_clr = pd.DataFrame(clr(X_arr), index=df_filtered.index, columns=df_filtered.columns)"
   ]
  },
  {
   "cell_type": "code",
   "execution_count": 125,
   "id": "67e4fae2-24d8-4a02-b9d9-9564624dd361",
   "metadata": {},
   "outputs": [
    {
     "data": {
      "text/html": [
       "<div>\n",
       "<style scoped>\n",
       "    .dataframe tbody tr th:only-of-type {\n",
       "        vertical-align: middle;\n",
       "    }\n",
       "\n",
       "    .dataframe tbody tr th {\n",
       "        vertical-align: top;\n",
       "    }\n",
       "\n",
       "    .dataframe thead th {\n",
       "        text-align: right;\n",
       "    }\n",
       "</style>\n",
       "<table border=\"1\" class=\"dataframe\">\n",
       "  <thead>\n",
       "    <tr style=\"text-align: right;\">\n",
       "      <th></th>\n",
       "      <th>msp_0003</th>\n",
       "      <th>msp_0005</th>\n",
       "      <th>msp_0007</th>\n",
       "      <th>msp_0008</th>\n",
       "      <th>msp_0009</th>\n",
       "      <th>msp_0010</th>\n",
       "      <th>msp_0011</th>\n",
       "      <th>msp_0012</th>\n",
       "      <th>msp_0013</th>\n",
       "      <th>msp_0014</th>\n",
       "      <th>...</th>\n",
       "      <th>msp_1684</th>\n",
       "      <th>msp_1702</th>\n",
       "      <th>msp_1714</th>\n",
       "      <th>msp_1724</th>\n",
       "      <th>msp_1748</th>\n",
       "      <th>msp_1783</th>\n",
       "      <th>msp_1790</th>\n",
       "      <th>msp_1814</th>\n",
       "      <th>msp_1854</th>\n",
       "      <th>msp_1901</th>\n",
       "    </tr>\n",
       "  </thead>\n",
       "  <tbody>\n",
       "    <tr>\n",
       "      <th>ERS848618</th>\n",
       "      <td>0.357923</td>\n",
       "      <td>1.710074</td>\n",
       "      <td>0.357923</td>\n",
       "      <td>0.357923</td>\n",
       "      <td>-1.396620</td>\n",
       "      <td>-0.952575</td>\n",
       "      <td>-2.414082</td>\n",
       "      <td>-8.132580</td>\n",
       "      <td>0.357923</td>\n",
       "      <td>0.269727</td>\n",
       "      <td>...</td>\n",
       "      <td>-1.401548</td>\n",
       "      <td>-2.108164</td>\n",
       "      <td>0.357923</td>\n",
       "      <td>0.357923</td>\n",
       "      <td>0.357923</td>\n",
       "      <td>0.357923</td>\n",
       "      <td>0.357923</td>\n",
       "      <td>0.357923</td>\n",
       "      <td>0.357923</td>\n",
       "      <td>-1.405810</td>\n",
       "    </tr>\n",
       "    <tr>\n",
       "      <th>ERS848619</th>\n",
       "      <td>2.709159</td>\n",
       "      <td>7.596309</td>\n",
       "      <td>1.550864</td>\n",
       "      <td>-0.287684</td>\n",
       "      <td>-0.596976</td>\n",
       "      <td>3.446352</td>\n",
       "      <td>2.840773</td>\n",
       "      <td>3.768472</td>\n",
       "      <td>2.187953</td>\n",
       "      <td>0.052141</td>\n",
       "      <td>...</td>\n",
       "      <td>0.181502</td>\n",
       "      <td>-2.635119</td>\n",
       "      <td>-2.635119</td>\n",
       "      <td>-0.192664</td>\n",
       "      <td>-2.635119</td>\n",
       "      <td>-2.635119</td>\n",
       "      <td>-2.635119</td>\n",
       "      <td>-2.635119</td>\n",
       "      <td>-2.635119</td>\n",
       "      <td>-2.635119</td>\n",
       "    </tr>\n",
       "    <tr>\n",
       "      <th>ERS848620</th>\n",
       "      <td>4.430488</td>\n",
       "      <td>3.929502</td>\n",
       "      <td>6.974280</td>\n",
       "      <td>0.484692</td>\n",
       "      <td>2.453491</td>\n",
       "      <td>-0.030688</td>\n",
       "      <td>5.761667</td>\n",
       "      <td>4.287023</td>\n",
       "      <td>-1.857022</td>\n",
       "      <td>-1.857022</td>\n",
       "      <td>...</td>\n",
       "      <td>2.358735</td>\n",
       "      <td>1.161744</td>\n",
       "      <td>-1.857022</td>\n",
       "      <td>0.875312</td>\n",
       "      <td>2.140833</td>\n",
       "      <td>-1.857022</td>\n",
       "      <td>3.187758</td>\n",
       "      <td>-1.857022</td>\n",
       "      <td>-1.857022</td>\n",
       "      <td>-1.857022</td>\n",
       "    </tr>\n",
       "    <tr>\n",
       "      <th>ERS848621</th>\n",
       "      <td>-2.044034</td>\n",
       "      <td>4.741911</td>\n",
       "      <td>0.647809</td>\n",
       "      <td>1.096421</td>\n",
       "      <td>0.189065</td>\n",
       "      <td>3.497237</td>\n",
       "      <td>2.639839</td>\n",
       "      <td>4.589336</td>\n",
       "      <td>-2.044034</td>\n",
       "      <td>2.839838</td>\n",
       "      <td>...</td>\n",
       "      <td>-1.318466</td>\n",
       "      <td>-2.044034</td>\n",
       "      <td>-2.044034</td>\n",
       "      <td>3.794253</td>\n",
       "      <td>0.262333</td>\n",
       "      <td>2.360584</td>\n",
       "      <td>-2.044034</td>\n",
       "      <td>-2.044034</td>\n",
       "      <td>-2.044034</td>\n",
       "      <td>-2.044034</td>\n",
       "    </tr>\n",
       "    <tr>\n",
       "      <th>ERS848622</th>\n",
       "      <td>4.462104</td>\n",
       "      <td>5.532758</td>\n",
       "      <td>1.676627</td>\n",
       "      <td>-1.829218</td>\n",
       "      <td>4.500117</td>\n",
       "      <td>5.463800</td>\n",
       "      <td>4.394371</td>\n",
       "      <td>4.688932</td>\n",
       "      <td>-1.829218</td>\n",
       "      <td>-0.220883</td>\n",
       "      <td>...</td>\n",
       "      <td>0.131669</td>\n",
       "      <td>-1.829218</td>\n",
       "      <td>2.417879</td>\n",
       "      <td>0.416362</td>\n",
       "      <td>-1.829218</td>\n",
       "      <td>-1.829218</td>\n",
       "      <td>-1.829218</td>\n",
       "      <td>-1.829218</td>\n",
       "      <td>-1.829218</td>\n",
       "      <td>2.860398</td>\n",
       "    </tr>\n",
       "    <tr>\n",
       "      <th>...</th>\n",
       "      <td>...</td>\n",
       "      <td>...</td>\n",
       "      <td>...</td>\n",
       "      <td>...</td>\n",
       "      <td>...</td>\n",
       "      <td>...</td>\n",
       "      <td>...</td>\n",
       "      <td>...</td>\n",
       "      <td>...</td>\n",
       "      <td>...</td>\n",
       "      <td>...</td>\n",
       "      <td>...</td>\n",
       "      <td>...</td>\n",
       "      <td>...</td>\n",
       "      <td>...</td>\n",
       "      <td>...</td>\n",
       "      <td>...</td>\n",
       "      <td>...</td>\n",
       "      <td>...</td>\n",
       "      <td>...</td>\n",
       "      <td>...</td>\n",
       "    </tr>\n",
       "    <tr>\n",
       "      <th>ERS848741</th>\n",
       "      <td>-1.825278</td>\n",
       "      <td>9.692150</td>\n",
       "      <td>-1.825278</td>\n",
       "      <td>-1.825278</td>\n",
       "      <td>-1.825278</td>\n",
       "      <td>0.488572</td>\n",
       "      <td>-1.710893</td>\n",
       "      <td>0.200195</td>\n",
       "      <td>-1.825278</td>\n",
       "      <td>-1.825278</td>\n",
       "      <td>...</td>\n",
       "      <td>-1.825278</td>\n",
       "      <td>1.202463</td>\n",
       "      <td>-1.825278</td>\n",
       "      <td>-1.825278</td>\n",
       "      <td>-1.825278</td>\n",
       "      <td>-1.825278</td>\n",
       "      <td>-1.825278</td>\n",
       "      <td>-1.825278</td>\n",
       "      <td>-1.825278</td>\n",
       "      <td>-1.825278</td>\n",
       "    </tr>\n",
       "    <tr>\n",
       "      <th>ERS848742</th>\n",
       "      <td>2.737170</td>\n",
       "      <td>2.244168</td>\n",
       "      <td>1.496629</td>\n",
       "      <td>-2.377336</td>\n",
       "      <td>-2.377336</td>\n",
       "      <td>-2.377336</td>\n",
       "      <td>3.535200</td>\n",
       "      <td>-1.145290</td>\n",
       "      <td>-2.377336</td>\n",
       "      <td>-0.831793</td>\n",
       "      <td>...</td>\n",
       "      <td>-2.377336</td>\n",
       "      <td>-0.162458</td>\n",
       "      <td>-2.377336</td>\n",
       "      <td>-0.045367</td>\n",
       "      <td>-2.377336</td>\n",
       "      <td>-2.377336</td>\n",
       "      <td>-2.377336</td>\n",
       "      <td>-2.377336</td>\n",
       "      <td>4.409832</td>\n",
       "      <td>-2.377336</td>\n",
       "    </tr>\n",
       "    <tr>\n",
       "      <th>ERS848743</th>\n",
       "      <td>3.083658</td>\n",
       "      <td>6.571622</td>\n",
       "      <td>-2.006123</td>\n",
       "      <td>-2.006123</td>\n",
       "      <td>1.007011</td>\n",
       "      <td>4.062277</td>\n",
       "      <td>3.661929</td>\n",
       "      <td>2.123537</td>\n",
       "      <td>5.940842</td>\n",
       "      <td>-2.006123</td>\n",
       "      <td>...</td>\n",
       "      <td>-2.006123</td>\n",
       "      <td>2.232404</td>\n",
       "      <td>1.133643</td>\n",
       "      <td>-2.006123</td>\n",
       "      <td>0.090726</td>\n",
       "      <td>-2.006123</td>\n",
       "      <td>-2.006123</td>\n",
       "      <td>1.693697</td>\n",
       "      <td>-2.006123</td>\n",
       "      <td>-2.006123</td>\n",
       "    </tr>\n",
       "    <tr>\n",
       "      <th>ERS848744</th>\n",
       "      <td>4.305528</td>\n",
       "      <td>3.398691</td>\n",
       "      <td>2.580521</td>\n",
       "      <td>3.278601</td>\n",
       "      <td>2.504501</td>\n",
       "      <td>-2.393998</td>\n",
       "      <td>5.385122</td>\n",
       "      <td>3.379052</td>\n",
       "      <td>-2.393998</td>\n",
       "      <td>0.039195</td>\n",
       "      <td>...</td>\n",
       "      <td>1.481902</td>\n",
       "      <td>-2.393998</td>\n",
       "      <td>-2.393998</td>\n",
       "      <td>2.838006</td>\n",
       "      <td>0.379990</td>\n",
       "      <td>-2.393998</td>\n",
       "      <td>-2.393998</td>\n",
       "      <td>-2.393998</td>\n",
       "      <td>-2.393998</td>\n",
       "      <td>-2.393998</td>\n",
       "    </tr>\n",
       "    <tr>\n",
       "      <th>ERS848745</th>\n",
       "      <td>2.224798</td>\n",
       "      <td>0.394465</td>\n",
       "      <td>3.776494</td>\n",
       "      <td>3.753486</td>\n",
       "      <td>1.645963</td>\n",
       "      <td>2.069791</td>\n",
       "      <td>4.491681</td>\n",
       "      <td>3.972187</td>\n",
       "      <td>5.351222</td>\n",
       "      <td>0.830919</td>\n",
       "      <td>...</td>\n",
       "      <td>0.016091</td>\n",
       "      <td>1.473631</td>\n",
       "      <td>1.042188</td>\n",
       "      <td>1.755661</td>\n",
       "      <td>-2.261484</td>\n",
       "      <td>-2.490076</td>\n",
       "      <td>-2.490076</td>\n",
       "      <td>-2.490076</td>\n",
       "      <td>-2.490076</td>\n",
       "      <td>-2.490076</td>\n",
       "    </tr>\n",
       "  </tbody>\n",
       "</table>\n",
       "<p>128 rows × 510 columns</p>\n",
       "</div>"
      ],
      "text/plain": [
       "           msp_0003  msp_0005  msp_0007  msp_0008  msp_0009  msp_0010  \\\n",
       "ERS848618  0.357923  1.710074  0.357923  0.357923 -1.396620 -0.952575   \n",
       "ERS848619  2.709159  7.596309  1.550864 -0.287684 -0.596976  3.446352   \n",
       "ERS848620  4.430488  3.929502  6.974280  0.484692  2.453491 -0.030688   \n",
       "ERS848621 -2.044034  4.741911  0.647809  1.096421  0.189065  3.497237   \n",
       "ERS848622  4.462104  5.532758  1.676627 -1.829218  4.500117  5.463800   \n",
       "...             ...       ...       ...       ...       ...       ...   \n",
       "ERS848741 -1.825278  9.692150 -1.825278 -1.825278 -1.825278  0.488572   \n",
       "ERS848742  2.737170  2.244168  1.496629 -2.377336 -2.377336 -2.377336   \n",
       "ERS848743  3.083658  6.571622 -2.006123 -2.006123  1.007011  4.062277   \n",
       "ERS848744  4.305528  3.398691  2.580521  3.278601  2.504501 -2.393998   \n",
       "ERS848745  2.224798  0.394465  3.776494  3.753486  1.645963  2.069791   \n",
       "\n",
       "           msp_0011  msp_0012  msp_0013  msp_0014  ...  msp_1684  msp_1702  \\\n",
       "ERS848618 -2.414082 -8.132580  0.357923  0.269727  ... -1.401548 -2.108164   \n",
       "ERS848619  2.840773  3.768472  2.187953  0.052141  ...  0.181502 -2.635119   \n",
       "ERS848620  5.761667  4.287023 -1.857022 -1.857022  ...  2.358735  1.161744   \n",
       "ERS848621  2.639839  4.589336 -2.044034  2.839838  ... -1.318466 -2.044034   \n",
       "ERS848622  4.394371  4.688932 -1.829218 -0.220883  ...  0.131669 -1.829218   \n",
       "...             ...       ...       ...       ...  ...       ...       ...   \n",
       "ERS848741 -1.710893  0.200195 -1.825278 -1.825278  ... -1.825278  1.202463   \n",
       "ERS848742  3.535200 -1.145290 -2.377336 -0.831793  ... -2.377336 -0.162458   \n",
       "ERS848743  3.661929  2.123537  5.940842 -2.006123  ... -2.006123  2.232404   \n",
       "ERS848744  5.385122  3.379052 -2.393998  0.039195  ...  1.481902 -2.393998   \n",
       "ERS848745  4.491681  3.972187  5.351222  0.830919  ...  0.016091  1.473631   \n",
       "\n",
       "           msp_1714  msp_1724  msp_1748  msp_1783  msp_1790  msp_1814  \\\n",
       "ERS848618  0.357923  0.357923  0.357923  0.357923  0.357923  0.357923   \n",
       "ERS848619 -2.635119 -0.192664 -2.635119 -2.635119 -2.635119 -2.635119   \n",
       "ERS848620 -1.857022  0.875312  2.140833 -1.857022  3.187758 -1.857022   \n",
       "ERS848621 -2.044034  3.794253  0.262333  2.360584 -2.044034 -2.044034   \n",
       "ERS848622  2.417879  0.416362 -1.829218 -1.829218 -1.829218 -1.829218   \n",
       "...             ...       ...       ...       ...       ...       ...   \n",
       "ERS848741 -1.825278 -1.825278 -1.825278 -1.825278 -1.825278 -1.825278   \n",
       "ERS848742 -2.377336 -0.045367 -2.377336 -2.377336 -2.377336 -2.377336   \n",
       "ERS848743  1.133643 -2.006123  0.090726 -2.006123 -2.006123  1.693697   \n",
       "ERS848744 -2.393998  2.838006  0.379990 -2.393998 -2.393998 -2.393998   \n",
       "ERS848745  1.042188  1.755661 -2.261484 -2.490076 -2.490076 -2.490076   \n",
       "\n",
       "           msp_1854  msp_1901  \n",
       "ERS848618  0.357923 -1.405810  \n",
       "ERS848619 -2.635119 -2.635119  \n",
       "ERS848620 -1.857022 -1.857022  \n",
       "ERS848621 -2.044034 -2.044034  \n",
       "ERS848622 -1.829218  2.860398  \n",
       "...             ...       ...  \n",
       "ERS848741 -1.825278 -1.825278  \n",
       "ERS848742  4.409832 -2.377336  \n",
       "ERS848743 -2.006123 -2.006123  \n",
       "ERS848744 -2.393998 -2.393998  \n",
       "ERS848745 -2.490076 -2.490076  \n",
       "\n",
       "[128 rows x 510 columns]"
      ]
     },
     "execution_count": 125,
     "metadata": {},
     "output_type": "execute_result"
    }
   ],
   "source": [
    "X_clr"
   ]
  },
  {
   "cell_type": "markdown",
   "id": "0d3f4d77-8fba-41ab-b7fe-33d8a70d8426",
   "metadata": {},
   "source": [
    "## Analisi della correlazione tra due feature"
   ]
  },
  {
   "cell_type": "code",
   "execution_count": 127,
   "id": "3f76c4c1-73ae-4497-af9e-f5aaf82ca86b",
   "metadata": {},
   "outputs": [
    {
     "data": {
      "text/plain": [
       "Index(['msp_0003', 'msp_0005', 'msp_0007', 'msp_0008', 'msp_0009', 'msp_0010',\n",
       "       'msp_0011', 'msp_0012', 'msp_0013', 'msp_0014'],\n",
       "      dtype='object')"
      ]
     },
     "execution_count": 127,
     "metadata": {},
     "output_type": "execute_result"
    }
   ],
   "source": [
    "X_clr.columns[:10]  # per vedere le prime 10 feature disponibili\n"
   ]
  },
  {
   "cell_type": "code",
   "execution_count": 132,
   "id": "2318c086-cdcc-4be1-8596-1b9d2c259fd5",
   "metadata": {},
   "outputs": [],
   "source": [
    "feature_1 = 'msp_0003'\n",
    "feature_2 = 'msp_0007'\n"
   ]
  },
  {
   "cell_type": "code",
   "execution_count": 133,
   "id": "20368f2c-4189-42a0-b7b0-f8339fc0bc77",
   "metadata": {},
   "outputs": [
    {
     "name": "stdout",
     "output_type": "stream",
     "text": [
      "Correlazione Pearson: 0.30, p-value: 0.0007\n"
     ]
    }
   ],
   "source": [
    "from scipy.stats import pearsonr\n",
    "\n",
    "r, p = pearsonr(X_clr[feature_1], X_clr[feature_2])\n",
    "print(f\"Correlazione Pearson: {r:.2f}, p-value: {p:.4f}\")\n"
   ]
  },
  {
   "cell_type": "code",
   "execution_count": 134,
   "id": "3ece930b-ace8-4f43-8d75-177fb761789f",
   "metadata": {},
   "outputs": [
    {
     "data": {
      "image/png": "[encoded data removed]",
      "text/plain": [
       "<Figure size 640x480 with 1 Axes>"
      ]
     },
     "metadata": {},
     "output_type": "display_data"
    }
   ],
   "source": [
    "\n",
    "\n",
    "sns.scatterplot(x=X_clr[feature_1], y=X_clr[feature_2])\n",
    "plt.xlabel(feature_1)\n",
    "plt.ylabel(feature_2)\n",
    "plt.title(f'Scatterplot tra {feature_1} e {feature_2}')\n",
    "plt.grid(True)\n",
    "plt.show()\n"
   ]
  },
  {
   "cell_type": "code",
   "execution_count": 135,
   "id": "efb9ce08-7301-4434-a5fa-4c567e8133db",
   "metadata": {},
   "outputs": [],
   "source": [
    "# Costruzione di un DataFrame unificato per plotting\n",
    "df_plot = X_clr.copy()\n",
    "df_plot['health_status'] = df_csv['health_status'].values\n"
   ]
  },
  {
   "cell_type": "code",
   "execution_count": 136,
   "id": "e58a4fb9-30dd-45ac-9a21-b156550909de",
   "metadata": {},
   "outputs": [
    {
     "data": {
      "image/png": "[encoded data removed]",
      "text/plain": [
       "<Figure size 640x480 with 1 Axes>"
      ]
     },
     "metadata": {},
     "output_type": "display_data"
    }
   ],
   "source": [
    "\n",
    "sns.scatterplot(\n",
    "    data=df_plot,\n",
    "    x=feature_1,\n",
    "    y=feature_2,\n",
    "    hue='health_status',\n",
    "    palette={0: 'green', 1: 'red'}\n",
    ")\n",
    "plt.xlabel(feature_1)\n",
    "plt.ylabel(feature_2)\n",
    "plt.title(f'Scatterplot CLR tra {feature_1} e {feature_2}, divisi per health status')\n",
    "plt.grid(True)\n",
    "plt.legend(title='Health Status', labels=['Healthy (0)', 'Patient (1)'])\n",
    "plt.show()\n"
   ]
  },
  {
   "cell_type": "markdown",
   "id": "e26981b4-efd1-4349-86d8-ac4f1f32f833",
   "metadata": {},
   "source": [
    "## Task: Visualizza la distribuzione di alcune feature CLR con boxplot\n",
    "🎯 Obiettivo:\n",
    "Confrontare la distribuzione delle abbondanze CLR di alcune specie batteriche (MSP) tra soggetti sani e malati, usando un boxplot\n",
    "\n",
    "Hint:\n",
    "\n",
    "Usa la funzione sns.boxplot() di Seaborn"
   ]
  },
  {
   "cell_type": "markdown",
   "id": "68eb636c-f1d9-4c45-82d9-ce810a26da16",
   "metadata": {
    "jp-MarkdownHeadingCollapsed": true
   },
   "source": [
    "## soluzione"
   ]
  },
  {
   "cell_type": "code",
   "execution_count": 140,
   "id": "79c7e690-f3e1-4fe7-8fad-74db866df2af",
   "metadata": {},
   "outputs": [
    {
     "name": "stderr",
     "output_type": "stream",
     "text": [
      "/var/folders/33/yp65m1l108jcjptn6hq_l35h0000gn/T/ipykernel_36520/2883737666.py:5: FutureWarning: \n",
      "\n",
      "Passing `palette` without assigning `hue` is deprecated and will be removed in v0.14.0. Assign the `x` variable to `hue` and set `legend=False` for the same effect.\n",
      "\n",
      "  sns.boxplot(data=df_plot, x='health_status', y=feature, palette={'0': 'green', '1': 'red'})\n"
     ]
    },
    {
     "data": {
      "image/png": "[encoded data removed]",
      "text/plain": [
       "<Figure size 640x480 with 1 Axes>"
      ]
     },
     "metadata": {},
     "output_type": "display_data"
    }
   ],
   "source": [
    "\n",
    "# Seleziona una feature da visualizzare\n",
    "feature = 'msp_0010'  # sostituisci con una feature a tua scelta\n",
    "\n",
    "# Crea il boxplot\n",
    "sns.boxplot(data=df_plot, x='health_status', y=feature, palette={'0': 'green', '1': 'red'})\n",
    "plt.xlabel(\"Health Status\")\n",
    "plt.ylabel(\"CLR\")\n",
    "plt.title(f'Distribuzione CLR di {feature} per gruppo')\n",
    "plt.show()"
   ]
  },
  {
   "cell_type": "code",
   "execution_count": 153,
   "id": "9197fcea-8140-4188-a599-434af73a01ed",
   "metadata": {},
   "outputs": [
    {
     "name": "stdout",
     "output_type": "stream",
     "text": [
      "Test Mann-Whitney U per msp_0013\n",
      "U statistic: 2384.000, p-value: 0.0629\n"
     ]
    }
   ],
   "source": [
    "from scipy.stats import mannwhitneyu\n",
    "\n",
    "# Gruppi separati\n",
    "group_0 = df_plot[df_plot['health_status'] == 0][feature]\n",
    "group_1 = df_plot[df_plot['health_status'] == 1][feature]\n",
    "\n",
    "# Test Mann-Whitney\n",
    "stat, p = mannwhitneyu(group_0, group_1, alternative='two-sided')\n",
    "\n",
    "print(f\"Test Mann-Whitney U per {feature}\")\n",
    "print(f\"U statistic: {stat:.3f}, p-value: {p:.4f}\")\n"
   ]
  },
  {
   "cell_type": "code",
   "execution_count": 152,
   "id": "fb3f424d-6257-49c8-a0e1-a3568994fc7d",
   "metadata": {},
   "outputs": [
    {
     "name": "stderr",
     "output_type": "stream",
     "text": [
      "/var/folders/33/yp65m1l108jcjptn6hq_l35h0000gn/T/ipykernel_36520/3207651941.py:14: FutureWarning: \n",
      "\n",
      "Passing `palette` without assigning `hue` is deprecated and will be removed in v0.14.0. Assign the `x` variable to `hue` and set `legend=False` for the same effect.\n",
      "\n",
      "  sns.boxplot(\n",
      "/var/folders/33/yp65m1l108jcjptn6hq_l35h0000gn/T/ipykernel_36520/3207651941.py:14: FutureWarning: \n",
      "\n",
      "Passing `palette` without assigning `hue` is deprecated and will be removed in v0.14.0. Assign the `x` variable to `hue` and set `legend=False` for the same effect.\n",
      "\n",
      "  sns.boxplot(\n",
      "/var/folders/33/yp65m1l108jcjptn6hq_l35h0000gn/T/ipykernel_36520/3207651941.py:14: FutureWarning: \n",
      "\n",
      "Passing `palette` without assigning `hue` is deprecated and will be removed in v0.14.0. Assign the `x` variable to `hue` and set `legend=False` for the same effect.\n",
      "\n",
      "  sns.boxplot(\n",
      "/var/folders/33/yp65m1l108jcjptn6hq_l35h0000gn/T/ipykernel_36520/3207651941.py:14: FutureWarning: \n",
      "\n",
      "Passing `palette` without assigning `hue` is deprecated and will be removed in v0.14.0. Assign the `x` variable to `hue` and set `legend=False` for the same effect.\n",
      "\n",
      "  sns.boxplot(\n",
      "/var/folders/33/yp65m1l108jcjptn6hq_l35h0000gn/T/ipykernel_36520/3207651941.py:14: FutureWarning: \n",
      "\n",
      "Passing `palette` without assigning `hue` is deprecated and will be removed in v0.14.0. Assign the `x` variable to `hue` and set `legend=False` for the same effect.\n",
      "\n",
      "  sns.boxplot(\n",
      "/var/folders/33/yp65m1l108jcjptn6hq_l35h0000gn/T/ipykernel_36520/3207651941.py:14: FutureWarning: \n",
      "\n",
      "Passing `palette` without assigning `hue` is deprecated and will be removed in v0.14.0. Assign the `x` variable to `hue` and set `legend=False` for the same effect.\n",
      "\n",
      "  sns.boxplot(\n",
      "/var/folders/33/yp65m1l108jcjptn6hq_l35h0000gn/T/ipykernel_36520/3207651941.py:14: FutureWarning: \n",
      "\n",
      "Passing `palette` without assigning `hue` is deprecated and will be removed in v0.14.0. Assign the `x` variable to `hue` and set `legend=False` for the same effect.\n",
      "\n",
      "  sns.boxplot(\n",
      "/var/folders/33/yp65m1l108jcjptn6hq_l35h0000gn/T/ipykernel_36520/3207651941.py:14: FutureWarning: \n",
      "\n",
      "Passing `palette` without assigning `hue` is deprecated and will be removed in v0.14.0. Assign the `x` variable to `hue` and set `legend=False` for the same effect.\n",
      "\n",
      "  sns.boxplot(\n",
      "/var/folders/33/yp65m1l108jcjptn6hq_l35h0000gn/T/ipykernel_36520/3207651941.py:14: FutureWarning: \n",
      "\n",
      "Passing `palette` without assigning `hue` is deprecated and will be removed in v0.14.0. Assign the `x` variable to `hue` and set `legend=False` for the same effect.\n",
      "\n",
      "  sns.boxplot(\n"
     ]
    },
    {
     "data": {
      "image/png": "[encoded data removed]",
      "text/plain": [
       "<Figure size 1500x1200 with 9 Axes>"
      ]
     },
     "metadata": {},
     "output_type": "display_data"
    }
   ],
   "source": [
    "\n",
    "# Seleziona le prime 9 feature\n",
    "features_to_plot = X_clr.columns[:9]\n",
    "\n",
    "# Unisci i dati CLR con lo stato di salute\n",
    "df_plot = X_clr.copy()\n",
    "df_plot['health_status'] = df_csv['health_status'].values\n",
    "\n",
    "# Crea figura con 3 righe e 3 colonne\n",
    "fig, axes = plt.subplots(3, 3, figsize=(15, 12))\n",
    "axes = axes.flatten()  # per iterare più facilmente\n",
    "\n",
    "# Loop sulle feature\n",
    "for i, feature in enumerate(features_to_plot):\n",
    "    sns.boxplot(\n",
    "        data=df_plot,\n",
    "        x='health_status',\n",
    "        y=feature,        \n",
    "        ax=axes[i],\n",
    "        palette={'0': 'green', '1': 'red'}\n",
    "    )\n",
    "    axes[i].set_title(feature)\n",
    "    axes[i].set_xlabel('')\n",
    "    axes[i].set_ylabel('CLR abundance')\n",
    "\n",
    "# Rimuove assi vuoti (se presenti)\n",
    "for j in range(i + 1, len(axes)):\n",
    "    fig.delaxes(axes[j])\n",
    "\n",
    "fig.suptitle('Distribuzione CLR delle prime 9 feature per gruppo', fontsize=16)\n",
    "plt.tight_layout()\n",
    "plt.subplots_adjust(top=0.92)\n",
    "plt.show()"
   ]
  },
  {
   "cell_type": "code",
   "execution_count": null,
   "id": "42089a33-12fe-419a-bab2-b3ad02a87266",
   "metadata": {},
   "outputs": [],
   "source": []
  }
 ],
 "metadata": {
  "kernelspec": {
   "display_name": "Python AI-microbiome-elixir",
   "language": "python",
   "name": "ai-microbiome"
  },
  "language_info": {
   "codemirror_mode": {
    "name": "ipython",
    "version": 3
   },
   "file_extension": ".py",
   "mimetype": "text/x-python",
   "name": "python",
   "nbconvert_exporter": "python",
   "pygments_lexer": "ipython3",
   "version": "3.10.18"
  }
 },
 "nbformat": 4,
 "nbformat_minor": 5
}
