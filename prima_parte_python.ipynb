{
 "cells": [
  {
   "cell_type": "markdown",
   "id": "404aed41-b23e-40a4-8eac-7db8a4895eae",
   "metadata": {},
   "source": [
    "# Getting Started"
   ]
  },
  {
   "cell_type": "code",
   "execution_count": 1,
   "id": "0024e802-1ac9-4510-af3f-074f29ed4037",
   "metadata": {},
   "outputs": [
    {
     "name": "stdout",
     "output_type": "stream",
     "text": [
      "3.0\n"
     ]
    }
   ],
   "source": [
    "x = 2.0\n",
    "y = 1\n",
    "z = x + y\n",
    "print(z)"
   ]
  },
  {
   "cell_type": "markdown",
   "id": "f59bf6ee-7afb-4832-a6f7-3e1eefb795f9",
   "metadata": {},
   "source": [
    "Division and parentesis"
   ]
  },
  {
   "cell_type": "code",
   "execution_count": 3,
   "id": "0d6f8e25-0542-4c20-9dcc-ecdd00166cd9",
   "metadata": {},
   "outputs": [
    {
     "name": "stdout",
     "output_type": "stream",
     "text": [
      "11.333333333333334\n",
      "16.333333333333336\n"
     ]
    }
   ],
   "source": [
    "x = (17 * 2) / 3\n",
    "y = 2.5\n",
    "print(x)\n",
    "print(x + (y * 2))"
   ]
  },
  {
   "cell_type": "code",
   "execution_count": 4,
   "id": "2b89806e-e7f6-4ca7-9b55-184020ed28e0",
   "metadata": {},
   "outputs": [
    {
     "data": {
      "text/plain": [
       "11.33"
      ]
     },
     "execution_count": 4,
     "metadata": {},
     "output_type": "execute_result"
    }
   ],
   "source": [
    "round(x, 2)"
   ]
  },
  {
   "cell_type": "markdown",
   "id": "a216bb50-fbd0-4993-9e9b-51f5eb0f5251",
   "metadata": {},
   "source": [
    "strings"
   ]
  },
  {
   "cell_type": "code",
   "execution_count": 5,
   "id": "cb1a97d7-686e-4d37-b6b8-01b65708afd8",
   "metadata": {},
   "outputs": [
    {
     "name": "stdout",
     "output_type": "stream",
     "text": [
      "Ciao a tutti\n"
     ]
    }
   ],
   "source": [
    "x='a tutti'\n",
    "print(\"Ciao\", x)"
   ]
  },
  {
   "cell_type": "markdown",
   "id": "f0a7a2c8-0a7d-4a0f-aedf-842117917ea1",
   "metadata": {},
   "source": [
    "You can use the same name for two different types"
   ]
  },
  {
   "cell_type": "code",
   "execution_count": 6,
   "id": "6eddcc05-ce22-4b97-a6dd-71ccbfcef31c",
   "metadata": {},
   "outputs": [
    {
     "name": "stdout",
     "output_type": "stream",
     "text": [
      "2 cat\n"
     ]
    }
   ],
   "source": [
    "x = \"dog\"\n",
    "y = \"cat\"\n",
    "x = 2\n",
    "print(x, y)"
   ]
  },
  {
   "cell_type": "code",
   "execution_count": 7,
   "id": "b2dfc539-6532-4ec5-9329-0062d4e3e54f",
   "metadata": {},
   "outputs": [
    {
     "data": {
      "text/plain": [
       "int"
      ]
     },
     "execution_count": 7,
     "metadata": {},
     "output_type": "execute_result"
    }
   ],
   "source": [
    "type(x)"
   ]
  },
  {
   "cell_type": "code",
   "execution_count": 8,
   "id": "68c1f938-dccf-4442-b337-77c97c594a97",
   "metadata": {},
   "outputs": [
    {
     "data": {
      "text/plain": [
       "str"
      ]
     },
     "execution_count": 8,
     "metadata": {},
     "output_type": "execute_result"
    }
   ],
   "source": [
    "x = \"microbiome\"\n",
    "type(x)"
   ]
  },
  {
   "cell_type": "code",
   "execution_count": 10,
   "id": "b47b66fa-382c-4f0c-8a47-38efbdd2abe6",
   "metadata": {},
   "outputs": [
    {
     "name": "stdout",
     "output_type": "stream",
     "text": [
      "<class 'int'>\n"
     ]
    }
   ],
   "source": [
    "a = 8\n",
    "print(type(a))"
   ]
  },
  {
   "cell_type": "code",
   "execution_count": 11,
   "id": "edeebe25-6e49-4c9d-855f-2ea6817b962c",
   "metadata": {},
   "outputs": [
    {
     "name": "stdout",
     "output_type": "stream",
     "text": [
      "68719476736\n",
      "<class 'int'>\n"
     ]
    }
   ],
   "source": [
    "b=a**12\n",
    "print(b)\n",
    "print(type(b))"
   ]
  },
  {
   "cell_type": "code",
   "execution_count": 12,
   "id": "a629f4db-97ba-41de-bc75-7b36d21f4e43",
   "metadata": {},
   "outputs": [
    {
     "name": "stdout",
     "output_type": "stream",
     "text": [
      "19.0 <class 'float'>\n"
     ]
    }
   ],
   "source": [
    "a = 4\n",
    "b = 15.0\n",
    "c = a+b\n",
    "print(c, type(c))"
   ]
  },
  {
   "cell_type": "markdown",
   "id": "0be9b15b-dff8-4e59-b318-9ad4bd184f54",
   "metadata": {},
   "source": [
    "# Lists operations"
   ]
  },
  {
   "cell_type": "code",
   "execution_count": 14,
   "id": "eb911435-e4ce-46a7-bfdf-600b6e71d27b",
   "metadata": {},
   "outputs": [],
   "source": [
    "films = [\"the devil's advocate\", \"The Astronaut's Wife\", \"Mad Max: Fury Road\"]"
   ]
  },
  {
   "cell_type": "code",
   "execution_count": 15,
   "id": "c99ab542-1bfc-46ac-a4d3-0e3d1d3e736c",
   "metadata": {},
   "outputs": [
    {
     "name": "stdout",
     "output_type": "stream",
     "text": [
      "1 ['Anna', 'Giulia', 'Vito', 'Michele']\n",
      "2 4\n",
      "3 Vito\n"
     ]
    }
   ],
   "source": [
    "pyclass = [\"Anna\", 'Giulia', 'Vito', \"Michele\"]\n",
    "print('1',pyclass)\n",
    "print('2',len(pyclass))\n",
    "print('3',pyclass[2])"
   ]
  },
  {
   "cell_type": "code",
   "execution_count": 16,
   "id": "cb94af5c-fd6a-4f90-9f54-f0703773570c",
   "metadata": {},
   "outputs": [
    {
     "name": "stdout",
     "output_type": "stream",
     "text": [
      "['Anna', 'Giulia', 'Vito', 'Michele', 'Rosa']\n",
      "Rosa\n",
      "['Anna', 'Giulia', 'Vito', 'Michele']\n"
     ]
    }
   ],
   "source": [
    "pyclass.append(\"Rosa\")\n",
    "print(pyclass)\n",
    "popped_out = pyclass.pop()\n",
    "print(popped_out)\n",
    "print(pyclass)"
   ]
  },
  {
   "cell_type": "code",
   "execution_count": 17,
   "id": "e42548eb-8cd4-45be-ba32-60bde40aeef3",
   "metadata": {},
   "outputs": [
    {
     "name": "stdout",
     "output_type": "stream",
     "text": [
      "['Anna', 'Giulia', 'Vito', 'Michele', 'Rosa', 'Gioacchino']\n"
     ]
    }
   ],
   "source": [
    "pyclass.extend([\"Rosa\",'Gioacchino'])\n",
    "print(pyclass)"
   ]
  },
  {
   "cell_type": "code",
   "execution_count": 18,
   "id": "43a194cc-f81e-44c9-84b7-e2baee342190",
   "metadata": {},
   "outputs": [
    {
     "name": "stdout",
     "output_type": "stream",
     "text": [
      "['Anna', 'Giulia', 'Michele', 'Rosa', 'Gioacchino']\n"
     ]
    }
   ],
   "source": [
    "pyclass.remove('Vito')\n",
    "print(pyclass)"
   ]
  },
  {
   "cell_type": "code",
   "execution_count": 19,
   "id": "936c1711-a2e2-4847-b4a9-c62312d9c9f9",
   "metadata": {},
   "outputs": [
    {
     "name": "stdout",
     "output_type": "stream",
     "text": [
      "Lab group members: ['Elio', 'Vito', 'Maurizio', 'Anna', 'Giulia', 'Michele', 'Rosa', 'Gioacchino']\n"
     ]
    }
   ],
   "source": [
    "pyclass.insert(0, 'Maurizio')\n",
    "pyclass.insert(0, 'Vito')\n",
    "pyclass.insert(0, 'Elio')\n",
    "print(\"Lab group members: {}\".format(pyclass)) "
   ]
  },
  {
   "cell_type": "markdown",
   "id": "e3ddbe61-ec82-4a6a-b589-68e2963aff88",
   "metadata": {},
   "source": [
    "# Conditionals and loops"
   ]
  },
  {
   "cell_type": "code",
   "execution_count": 20,
   "id": "8220a45a-8895-4f9b-ad67-7d9b7b48a27d",
   "metadata": {},
   "outputs": [
    {
     "name": "stdout",
     "output_type": "stream",
     "text": [
      "Loop count exceeded 2000. Exiting\n"
     ]
    }
   ],
   "source": [
    "x = 0.0 \n",
    "counter = 0 \n",
    "while x < 0.05: \n",
    "  #Guard against infinite loop \n",
    "  counter += 1\n",
    "  if counter > 2000: \n",
    "    print(\"Loop count exceeded 2000. Exiting\") \n",
    "    break"
   ]
  },
  {
   "cell_type": "code",
   "execution_count": 21,
   "id": "c568e7ae-db2c-4135-8307-d287d3d09e06",
   "metadata": {},
   "outputs": [
    {
     "name": "stdout",
     "output_type": "stream",
     "text": [
      "1\n",
      "2\n",
      "3\n",
      "4\n",
      "5\n"
     ]
    }
   ],
   "source": [
    "seq = [1,2,3,4,5]\n",
    "for item in seq:\n",
    "  print(item)"
   ]
  },
  {
   "cell_type": "code",
   "execution_count": 22,
   "id": "f5e6b713-ee52-4f2d-b8ec-acbc754c5366",
   "metadata": {},
   "outputs": [
    {
     "name": "stdout",
     "output_type": "stream",
     "text": [
      "0\n",
      "1\n",
      "2\n",
      "3\n",
      "4\n",
      "5\n",
      "6\n",
      "7\n",
      "8\n",
      "9\n"
     ]
    }
   ],
   "source": [
    "for x in range(0,10):\n",
    "  print(x)"
   ]
  },
  {
   "cell_type": "markdown",
   "id": "a15b835d-c67b-4607-84e8-b1efde559167",
   "metadata": {},
   "source": [
    "# Functions"
   ]
  },
  {
   "cell_type": "code",
   "execution_count": 23,
   "id": "8015d930-b5f7-4cf4-abb0-e82855b78293",
   "metadata": {},
   "outputs": [],
   "source": [
    "def square(num):\n",
    "  return num**2"
   ]
  },
  {
   "cell_type": "code",
   "execution_count": 24,
   "id": "e7863d89-c398-4db9-856c-9d4fa47e8793",
   "metadata": {},
   "outputs": [
    {
     "ename": "TypeError",
     "evalue": "square() missing 1 required positional argument: 'num'",
     "output_type": "error",
     "traceback": [
      "\u001b[0;31m---------------------------------------------------------------------------\u001b[0m",
      "\u001b[0;31mTypeError\u001b[0m                                 Traceback (most recent call last)",
      "Cell \u001b[0;32mIn[24], line 2\u001b[0m\n\u001b[1;32m      1\u001b[0m \u001b[38;5;66;03m#Error\u001b[39;00m\n\u001b[0;32m----> 2\u001b[0m \u001b[43msquare\u001b[49m\u001b[43m(\u001b[49m\u001b[43m)\u001b[49m\n",
      "\u001b[0;31mTypeError\u001b[0m: square() missing 1 required positional argument: 'num'"
     ]
    }
   ],
   "source": [
    "#Error\n",
    "square()"
   ]
  },
  {
   "cell_type": "code",
   "execution_count": 25,
   "id": "73abe1bc-bb07-4ca2-861d-c2dd47e005c7",
   "metadata": {},
   "outputs": [
    {
     "name": "stdout",
     "output_type": "stream",
     "text": [
      "1156\n"
     ]
    }
   ],
   "source": [
    "out=square(34)\n",
    "print(out)"
   ]
  },
  {
   "cell_type": "code",
   "execution_count": 26,
   "id": "fedc245b-0c63-42c0-8f3a-0019a85255d9",
   "metadata": {},
   "outputs": [],
   "source": [
    "#Documentation, defaults, keyword arguments\n",
    "def square(num=2, power=2):\n",
    "  \"\"\"\n",
    "  This is a documentation string\n",
    "  It can span multiple lines\n",
    "  Oh, by the way, this function squares a number\n",
    "  but you can overpower it\n",
    "  \"\"\"\n",
    "  return num**power"
   ]
  },
  {
   "cell_type": "code",
   "execution_count": 27,
   "id": "119cbad6-d8e5-4b85-9284-caf07a1d7023",
   "metadata": {},
   "outputs": [
    {
     "data": {
      "text/plain": [
       "125"
      ]
     },
     "execution_count": 27,
     "metadata": {},
     "output_type": "execute_result"
    }
   ],
   "source": [
    "square(power=3, num=5)"
   ]
  },
  {
   "cell_type": "markdown",
   "id": "9d72633f-d7a1-4155-a51c-172012ddfb3b",
   "metadata": {},
   "source": [
    "# NumPy"
   ]
  },
  {
   "cell_type": "code",
   "execution_count": 28,
   "id": "89eaa975-f68e-40a0-8a8b-c5ef21c79033",
   "metadata": {},
   "outputs": [],
   "source": [
    "import numpy as np"
   ]
  },
  {
   "cell_type": "code",
   "execution_count": 30,
   "id": "38ac7690-56ea-493f-a41f-726161d1767f",
   "metadata": {},
   "outputs": [
    {
     "name": "stdout",
     "output_type": "stream",
     "text": [
      "[1 2 3 4]\n",
      "<class 'numpy.ndarray'>\n",
      "1\n",
      "(4,)\n"
     ]
    }
   ],
   "source": [
    "x=np.array([1,2,3,4])\n",
    "print(x)\n",
    "print(type(x))\n",
    "print(np.ndim(x))\n",
    "print(np.shape(x))"
   ]
  },
  {
   "cell_type": "code",
   "execution_count": 31,
   "id": "0edd8c43-f050-4817-beec-1c81d55b8cfc",
   "metadata": {},
   "outputs": [
    {
     "name": "stdout",
     "output_type": "stream",
     "text": [
      "3 dimensional array: \n",
      "[[[ 1  2]\n",
      "  [ 3  4]]\n",
      "\n",
      " [[ 5  6]\n",
      "  [ 7  8]]\n",
      "\n",
      " [[ 9 10]\n",
      "  [11 12]]]\n",
      "number of dimensions:  3\n"
     ]
    }
   ],
   "source": [
    "x=np.array([[[1,2], [3,4]],\n",
    "            [[5,6], [7,8]],\n",
    "            [[9,10],[11,12]]])\n",
    "print(\"3 dimensional array: \")\n",
    "print(x)\n",
    "print(\"number of dimensions: \", x.ndim)"
   ]
  },
  {
   "cell_type": "code",
   "execution_count": 33,
   "id": "e3035b0b-8acd-447e-a0bb-c40a4492b49b",
   "metadata": {},
   "outputs": [
    {
     "name": "stdout",
     "output_type": "stream",
     "text": [
      "x ndim:  3\n",
      "x shape: (3, 2, 2)\n",
      "x size:  12\n"
     ]
    }
   ],
   "source": [
    "print(\"x ndim: \", x.ndim)\n",
    "print(\"x shape:\", x.shape)\n",
    "print(\"x size: \", x.size)"
   ]
  },
  {
   "cell_type": "markdown",
   "id": "59a0e983-c3e1-4e18-9bc0-3a29466467ab",
   "metadata": {},
   "source": [
    "# Pandas"
   ]
  },
  {
   "cell_type": "markdown",
   "id": "e0ac236a-3f3f-412e-81ab-c55258d58caa",
   "metadata": {},
   "source": [
    "https://pandas.pydata.org/docs/user_guide/10min.html#min\n",
    "\n",
    "https://pandas.pydata.org/Pandas_Cheat_Sheet.pdf"
   ]
  },
  {
   "cell_type": "code",
   "execution_count": 34,
   "id": "451905a6-9ed1-4f70-9b2c-5129fa814c09",
   "metadata": {},
   "outputs": [],
   "source": [
    "import pandas as pd\n"
   ]
  },
  {
   "cell_type": "code",
   "execution_count": 37,
   "id": "ccb02acb-ead4-4364-aa81-48f8fc804e3a",
   "metadata": {},
   "outputs": [],
   "source": [
    "s = pd.Series([1, 3, 5, np.nan, 6, 8])"
   ]
  },
  {
   "cell_type": "code",
   "execution_count": 38,
   "id": "db27e057-8e3a-4077-ad0e-7a4228dc3631",
   "metadata": {},
   "outputs": [
    {
     "data": {
      "text/plain": [
       "0    1.0\n",
       "1    3.0\n",
       "2    5.0\n",
       "3    NaN\n",
       "4    6.0\n",
       "5    8.0\n",
       "dtype: float64"
      ]
     },
     "execution_count": 38,
     "metadata": {},
     "output_type": "execute_result"
    }
   ],
   "source": [
    "s"
   ]
  },
  {
   "cell_type": "code",
   "execution_count": 42,
   "id": "cbe5db84-5392-4ee0-9dfd-841d941a0147",
   "metadata": {},
   "outputs": [],
   "source": [
    "data = {\n",
    "    'Campione': ['S1', 'S2', 'S3'],\n",
    "    'Bacteroides': [0.30, 0.25, 0.35],\n",
    "    'Lactobacillus': [0.10, 0.15, 0.05]\n",
    "}\n",
    "df = pd.DataFrame(data)"
   ]
  },
  {
   "cell_type": "code",
   "execution_count": 43,
   "id": "df96d52d-52cd-4c72-8b0b-aef56da9207a",
   "metadata": {},
   "outputs": [
    {
     "data": {
      "text/html": [
       "<div>\n",
       "<style scoped>\n",
       "    .dataframe tbody tr th:only-of-type {\n",
       "        vertical-align: middle;\n",
       "    }\n",
       "\n",
       "    .dataframe tbody tr th {\n",
       "        vertical-align: top;\n",
       "    }\n",
       "\n",
       "    .dataframe thead th {\n",
       "        text-align: right;\n",
       "    }\n",
       "</style>\n",
       "<table border=\"1\" class=\"dataframe\">\n",
       "  <thead>\n",
       "    <tr style=\"text-align: right;\">\n",
       "      <th></th>\n",
       "      <th>Campione</th>\n",
       "      <th>Bacteroides</th>\n",
       "      <th>Lactobacillus</th>\n",
       "    </tr>\n",
       "  </thead>\n",
       "  <tbody>\n",
       "    <tr>\n",
       "      <th>0</th>\n",
       "      <td>S1</td>\n",
       "      <td>0.30</td>\n",
       "      <td>0.10</td>\n",
       "    </tr>\n",
       "    <tr>\n",
       "      <th>1</th>\n",
       "      <td>S2</td>\n",
       "      <td>0.25</td>\n",
       "      <td>0.15</td>\n",
       "    </tr>\n",
       "    <tr>\n",
       "      <th>2</th>\n",
       "      <td>S3</td>\n",
       "      <td>0.35</td>\n",
       "      <td>0.05</td>\n",
       "    </tr>\n",
       "  </tbody>\n",
       "</table>\n",
       "</div>"
      ],
      "text/plain": [
       "  Campione  Bacteroides  Lactobacillus\n",
       "0       S1         0.30           0.10\n",
       "1       S2         0.25           0.15\n",
       "2       S3         0.35           0.05"
      ]
     },
     "execution_count": 43,
     "metadata": {},
     "output_type": "execute_result"
    }
   ],
   "source": [
    "df"
   ]
  },
  {
   "cell_type": "code",
   "execution_count": 48,
   "id": "7ab1b6b7-6607-425a-adfb-ef2ebfca2a60",
   "metadata": {},
   "outputs": [
    {
     "data": {
      "text/html": [
       "<div>\n",
       "<style scoped>\n",
       "    .dataframe tbody tr th:only-of-type {\n",
       "        vertical-align: middle;\n",
       "    }\n",
       "\n",
       "    .dataframe tbody tr th {\n",
       "        vertical-align: top;\n",
       "    }\n",
       "\n",
       "    .dataframe thead th {\n",
       "        text-align: right;\n",
       "    }\n",
       "</style>\n",
       "<table border=\"1\" class=\"dataframe\">\n",
       "  <thead>\n",
       "    <tr style=\"text-align: right;\">\n",
       "      <th></th>\n",
       "      <th>Campione</th>\n",
       "      <th>Bacteroides</th>\n",
       "      <th>Lactobacillus</th>\n",
       "      <th>Firmicutes</th>\n",
       "    </tr>\n",
       "  </thead>\n",
       "  <tbody>\n",
       "    <tr>\n",
       "      <th>0</th>\n",
       "      <td>S1</td>\n",
       "      <td>0.30</td>\n",
       "      <td>0.10</td>\n",
       "      <td>0.20</td>\n",
       "    </tr>\n",
       "    <tr>\n",
       "      <th>1</th>\n",
       "      <td>S2</td>\n",
       "      <td>0.25</td>\n",
       "      <td>0.15</td>\n",
       "      <td>0.30</td>\n",
       "    </tr>\n",
       "    <tr>\n",
       "      <th>2</th>\n",
       "      <td>S3</td>\n",
       "      <td>0.35</td>\n",
       "      <td>0.05</td>\n",
       "      <td>0.25</td>\n",
       "    </tr>\n",
       "  </tbody>\n",
       "</table>\n",
       "</div>"
      ],
      "text/plain": [
       "  Campione  Bacteroides  Lactobacillus  Firmicutes\n",
       "0       S1         0.30           0.10        0.20\n",
       "1       S2         0.25           0.15        0.30\n",
       "2       S3         0.35           0.05        0.25"
      ]
     },
     "execution_count": 48,
     "metadata": {},
     "output_type": "execute_result"
    }
   ],
   "source": [
    "# 📝 Task:Aggiungi una nuova colonna chiamata 'Firmicutes' con valori a tua scelta.\n",
    "df['Firmicutes'] = [0.20, 0.30, 0.25]\n",
    "df"
   ]
  },
  {
   "cell_type": "code",
   "execution_count": 52,
   "id": "4e51a1d1-c982-471b-b822-bad95da718e0",
   "metadata": {},
   "outputs": [
    {
     "data": {
      "text/plain": [
       "(3, 4)"
      ]
     },
     "execution_count": 52,
     "metadata": {},
     "output_type": "execute_result"
    }
   ],
   "source": [
    "# Dimensioni del DataFrame\n",
    "df.shape"
   ]
  },
  {
   "cell_type": "code",
   "execution_count": 54,
   "id": "8d3fbd20-6087-442f-85ab-26dffe67795c",
   "metadata": {},
   "outputs": [
    {
     "data": {
      "text/plain": [
       "Index(['Campione', 'Bacteroides', 'Lactobacillus', 'Firmicutes'], dtype='object')"
      ]
     },
     "execution_count": 54,
     "metadata": {},
     "output_type": "execute_result"
    }
   ],
   "source": [
    "# Nomi delle colonne\n",
    "df.columns"
   ]
  },
  {
   "cell_type": "code",
   "execution_count": 55,
   "id": "066adb65-6aad-4d84-a7e6-e6b925f45163",
   "metadata": {},
   "outputs": [
    {
     "data": {
      "text/html": [
       "<div>\n",
       "<style scoped>\n",
       "    .dataframe tbody tr th:only-of-type {\n",
       "        vertical-align: middle;\n",
       "    }\n",
       "\n",
       "    .dataframe tbody tr th {\n",
       "        vertical-align: top;\n",
       "    }\n",
       "\n",
       "    .dataframe thead th {\n",
       "        text-align: right;\n",
       "    }\n",
       "</style>\n",
       "<table border=\"1\" class=\"dataframe\">\n",
       "  <thead>\n",
       "    <tr style=\"text-align: right;\">\n",
       "      <th></th>\n",
       "      <th>Bacteroides</th>\n",
       "      <th>Lactobacillus</th>\n",
       "      <th>Firmicutes</th>\n",
       "    </tr>\n",
       "  </thead>\n",
       "  <tbody>\n",
       "    <tr>\n",
       "      <th>count</th>\n",
       "      <td>3.000</td>\n",
       "      <td>3.000</td>\n",
       "      <td>3.000</td>\n",
       "    </tr>\n",
       "    <tr>\n",
       "      <th>mean</th>\n",
       "      <td>0.300</td>\n",
       "      <td>0.100</td>\n",
       "      <td>0.250</td>\n",
       "    </tr>\n",
       "    <tr>\n",
       "      <th>std</th>\n",
       "      <td>0.050</td>\n",
       "      <td>0.050</td>\n",
       "      <td>0.050</td>\n",
       "    </tr>\n",
       "    <tr>\n",
       "      <th>min</th>\n",
       "      <td>0.250</td>\n",
       "      <td>0.050</td>\n",
       "      <td>0.200</td>\n",
       "    </tr>\n",
       "    <tr>\n",
       "      <th>25%</th>\n",
       "      <td>0.275</td>\n",
       "      <td>0.075</td>\n",
       "      <td>0.225</td>\n",
       "    </tr>\n",
       "    <tr>\n",
       "      <th>50%</th>\n",
       "      <td>0.300</td>\n",
       "      <td>0.100</td>\n",
       "      <td>0.250</td>\n",
       "    </tr>\n",
       "    <tr>\n",
       "      <th>75%</th>\n",
       "      <td>0.325</td>\n",
       "      <td>0.125</td>\n",
       "      <td>0.275</td>\n",
       "    </tr>\n",
       "    <tr>\n",
       "      <th>max</th>\n",
       "      <td>0.350</td>\n",
       "      <td>0.150</td>\n",
       "      <td>0.300</td>\n",
       "    </tr>\n",
       "  </tbody>\n",
       "</table>\n",
       "</div>"
      ],
      "text/plain": [
       "       Bacteroides  Lactobacillus  Firmicutes\n",
       "count        3.000          3.000       3.000\n",
       "mean         0.300          0.100       0.250\n",
       "std          0.050          0.050       0.050\n",
       "min          0.250          0.050       0.200\n",
       "25%          0.275          0.075       0.225\n",
       "50%          0.300          0.100       0.250\n",
       "75%          0.325          0.125       0.275\n",
       "max          0.350          0.150       0.300"
      ]
     },
     "execution_count": 55,
     "metadata": {},
     "output_type": "execute_result"
    }
   ],
   "source": [
    "# Statistiche descrittive\n",
    "df.describe()"
   ]
  },
  {
   "cell_type": "code",
   "execution_count": 56,
   "id": "de1eb3c4-b2a4-41c2-bbd2-cb70df5f3183",
   "metadata": {},
   "outputs": [
    {
     "data": {
      "text/plain": [
       "0    0.30\n",
       "1    0.25\n",
       "2    0.35\n",
       "Name: Bacteroides, dtype: float64"
      ]
     },
     "execution_count": 56,
     "metadata": {},
     "output_type": "execute_result"
    }
   ],
   "source": [
    "# Selezione di una colonna\n",
    "df['Bacteroides']"
   ]
  },
  {
   "cell_type": "code",
   "execution_count": 57,
   "id": "2f672da4-7ca5-4928-9234-cb50e94d07c3",
   "metadata": {},
   "outputs": [
    {
     "data": {
      "text/html": [
       "<div>\n",
       "<style scoped>\n",
       "    .dataframe tbody tr th:only-of-type {\n",
       "        vertical-align: middle;\n",
       "    }\n",
       "\n",
       "    .dataframe tbody tr th {\n",
       "        vertical-align: top;\n",
       "    }\n",
       "\n",
       "    .dataframe thead th {\n",
       "        text-align: right;\n",
       "    }\n",
       "</style>\n",
       "<table border=\"1\" class=\"dataframe\">\n",
       "  <thead>\n",
       "    <tr style=\"text-align: right;\">\n",
       "      <th></th>\n",
       "      <th>Campione</th>\n",
       "      <th>Bacteroides</th>\n",
       "      <th>Lactobacillus</th>\n",
       "      <th>Firmicutes</th>\n",
       "    </tr>\n",
       "  </thead>\n",
       "  <tbody>\n",
       "    <tr>\n",
       "      <th>0</th>\n",
       "      <td>S1</td>\n",
       "      <td>0.30</td>\n",
       "      <td>0.10</td>\n",
       "      <td>0.20</td>\n",
       "    </tr>\n",
       "    <tr>\n",
       "      <th>2</th>\n",
       "      <td>S3</td>\n",
       "      <td>0.35</td>\n",
       "      <td>0.05</td>\n",
       "      <td>0.25</td>\n",
       "    </tr>\n",
       "  </tbody>\n",
       "</table>\n",
       "</div>"
      ],
      "text/plain": [
       "  Campione  Bacteroides  Lactobacillus  Firmicutes\n",
       "0       S1         0.30           0.10        0.20\n",
       "2       S3         0.35           0.05        0.25"
      ]
     },
     "execution_count": 57,
     "metadata": {},
     "output_type": "execute_result"
    }
   ],
   "source": [
    "# Filtraggio di righe\n",
    "df[df['Bacteroides'] > 0.25]"
   ]
  },
  {
   "cell_type": "markdown",
   "id": "fc16f070-b662-4ebf-bc87-72a6f70b74d4",
   "metadata": {},
   "source": [
    "In pandas esistono vari modi per accedere agli elementi:\n",
    "\n",
    "df['colonna'] → seleziona una singola colonna\n",
    "\n",
    "df.loc[riga, colonna] → indicizzazione tramite etichette\n",
    "\n",
    "df.iloc[riga, colonna] → indicizzazione tramite posizione\n",
    "\n",
    "df.at[] e df.iat[] → come loc e iloc, ma più veloci per singoli elementi"
   ]
  },
  {
   "cell_type": "code",
   "execution_count": 59,
   "id": "eeb2d4ee-4a8e-4ff7-99c0-d637cc25b023",
   "metadata": {},
   "outputs": [
    {
     "data": {
      "text/html": [
       "<div>\n",
       "<style scoped>\n",
       "    .dataframe tbody tr th:only-of-type {\n",
       "        vertical-align: middle;\n",
       "    }\n",
       "\n",
       "    .dataframe tbody tr th {\n",
       "        vertical-align: top;\n",
       "    }\n",
       "\n",
       "    .dataframe thead th {\n",
       "        text-align: right;\n",
       "    }\n",
       "</style>\n",
       "<table border=\"1\" class=\"dataframe\">\n",
       "  <thead>\n",
       "    <tr style=\"text-align: right;\">\n",
       "      <th></th>\n",
       "      <th>0</th>\n",
       "      <th>1</th>\n",
       "      <th>2</th>\n",
       "    </tr>\n",
       "  </thead>\n",
       "  <tbody>\n",
       "    <tr>\n",
       "      <th>Campione</th>\n",
       "      <td>S1</td>\n",
       "      <td>S2</td>\n",
       "      <td>S3</td>\n",
       "    </tr>\n",
       "    <tr>\n",
       "      <th>Bacteroides</th>\n",
       "      <td>0.3</td>\n",
       "      <td>0.25</td>\n",
       "      <td>0.35</td>\n",
       "    </tr>\n",
       "    <tr>\n",
       "      <th>Lactobacillus</th>\n",
       "      <td>0.1</td>\n",
       "      <td>0.15</td>\n",
       "      <td>0.05</td>\n",
       "    </tr>\n",
       "    <tr>\n",
       "      <th>Firmicutes</th>\n",
       "      <td>0.2</td>\n",
       "      <td>0.3</td>\n",
       "      <td>0.25</td>\n",
       "    </tr>\n",
       "  </tbody>\n",
       "</table>\n",
       "</div>"
      ],
      "text/plain": [
       "                 0     1     2\n",
       "Campione        S1    S2    S3\n",
       "Bacteroides    0.3  0.25  0.35\n",
       "Lactobacillus  0.1  0.15  0.05\n",
       "Firmicutes     0.2   0.3  0.25"
      ]
     },
     "execution_count": 59,
     "metadata": {},
     "output_type": "execute_result"
    }
   ],
   "source": [
    "#Transposing your data:\n",
    "\n",
    "df.T"
   ]
  },
  {
   "cell_type": "markdown",
   "id": "ace984fa-6fce-4870-8341-1e86a2ac2a14",
   "metadata": {},
   "source": [
    "## Task: Esplora i dati\n"
   ]
  },
  {
   "cell_type": "code",
   "execution_count": 68,
   "id": "7e765cf7-9012-4c3e-b0d4-ddfb1249fb77",
   "metadata": {},
   "outputs": [],
   "source": [
    "df = pd.DataFrame({\n",
    "    'Sample': ['S1', 'S2', 'S3', 'S4', 'S5', 'S6'],\n",
    "    'Bacteroides': [0.30, 0.25, 0.35, 0.15, 0.40, 0.10],\n",
    "    'Firmicutes': [0.20, 0.30, 0.25, 0.22, 0.18, 0.28],\n",
    "    'Lactobacillus': [0.10, 0.12, 0.08, 0.20, 0.05, 0.15],\n",
    "    'Prevotella': [0.15, 0.05, 0.12, 0.18, 0.07, 0.10],\n",
    "    'Akkermansia': [0.03, 0.01, 0.04, 0.02, 0.05, 0.01],\n",
    "    'Outcome': [1, 0, 1, 0, 1, 0]  # 1 = malato, 0 = sano\n",
    "})"
   ]
  },
  {
   "cell_type": "markdown",
   "id": "92c57cae-f312-4cc4-bed0-4de2f6aeba55",
   "metadata": {},
   "source": [
    "Esegui i seguenti comandi e rispondi:\n",
    "\n",
    "Imposta la colonna \"Sample\" come indice del DataFrame\n",
    "\n",
    "Quante righe e colonne ha il DataFrame?\n",
    "\n",
    "Quali sono i nomi delle colonne?\n",
    "\n",
    "Quali sono le etichette delle righe (indice)?\n",
    "\n",
    "Seleziona la colonna Bacteroides\n",
    "\n",
    "Seleziona la riga relativa al campione S1\n",
    "\n",
    "Estrai l’elemento alla riga 2 (posizione 1), colonna 2 (posizione 1)\n",
    "\n",
    "Estrai il valore della colonna Firmicutes per il campione S6\n",
    "\n",
    "Mostra tutti i campioni in cui Firmicutes è maggiore di 0.25\n",
    "\n",
    "Mostra tutti i campioni con Outcome == 1"
   ]
  },
  {
   "cell_type": "markdown",
   "id": "de9387fc-5b95-4278-83b4-58d5e7adcec4",
   "metadata": {
    "jp-MarkdownHeadingCollapsed": true
   },
   "source": [
    "## Soluzione"
   ]
  },
  {
   "cell_type": "code",
   "execution_count": 69,
   "id": "af9dcfe8-84b2-4b38-b16d-7d26aa0c9b43",
   "metadata": {},
   "outputs": [
    {
     "name": "stdout",
     "output_type": "stream",
     "text": [
      "(6, 6)\n",
      "Index(['Bacteroides', 'Firmicutes', 'Lactobacillus', 'Prevotella',\n",
      "       'Akkermansia', 'Outcome'],\n",
      "      dtype='object')\n",
      "Index(['S1', 'S2', 'S3', 'S4', 'S5', 'S6'], dtype='object', name='Sample')\n",
      "Sample\n",
      "S1    0.30\n",
      "S2    0.25\n",
      "S3    0.35\n",
      "S4    0.15\n",
      "S5    0.40\n",
      "S6    0.10\n",
      "Name: Bacteroides, dtype: float64\n",
      "Bacteroides      0.30\n",
      "Firmicutes       0.20\n",
      "Lactobacillus    0.10\n",
      "Prevotella       0.15\n",
      "Akkermansia      0.03\n",
      "Outcome          1.00\n",
      "Name: S1, dtype: float64\n",
      "0.3\n",
      "0.28\n",
      "        Bacteroides  Firmicutes  Lactobacillus  Prevotella  Akkermansia  \\\n",
      "Sample                                                                    \n",
      "S2             0.25        0.30           0.12        0.05         0.01   \n",
      "S6             0.10        0.28           0.15        0.10         0.01   \n",
      "\n",
      "        Outcome  \n",
      "Sample           \n",
      "S2            0  \n",
      "S6            0  \n",
      "        Bacteroides  Firmicutes  Lactobacillus  Prevotella  Akkermansia  \\\n",
      "Sample                                                                    \n",
      "S1             0.30        0.20           0.10        0.15         0.03   \n",
      "S3             0.35        0.25           0.08        0.12         0.04   \n",
      "S5             0.40        0.18           0.05        0.07         0.05   \n",
      "\n",
      "        Outcome  \n",
      "Sample           \n",
      "S1            1  \n",
      "S3            1  \n",
      "S5            1  \n"
     ]
    }
   ],
   "source": [
    "# 1. Imposta 'Sample' come indice\n",
    "df = df.set_index('Sample')\n",
    "\n",
    "# 2. Dimensioni del DataFrame\n",
    "print(df.shape)\n",
    "\n",
    "# 3. Nomi delle colonne\n",
    "print(df.columns)\n",
    "\n",
    "# 4. Etichette delle righe\n",
    "print(df.index)\n",
    "\n",
    "# 5. Colonna 'Bacteroides'\n",
    "print(df['Bacteroides'])\n",
    "\n",
    "# 6. Riga del campione S1\n",
    "print(df.loc['S1'])\n",
    "\n",
    "# 7. Elemento riga 2, colonna 2 (usando ilocalizzazione)\n",
    "print(df.iloc[1, 1])\n",
    "\n",
    "# 8. Valore di 'Firmicutes' per S6\n",
    "print(df.loc['S6', 'Firmicutes'])\n",
    "\n",
    "# 9. Campioni con Firmicutes > 0.25\n",
    "print(df[df['Firmicutes'] > 0.25])\n",
    "\n",
    "# 10. Campioni con Outcome == 1\n",
    "print(df[df['Outcome'] == 1])\n"
   ]
  },
  {
   "cell_type": "markdown",
   "id": "c0d854c8-9606-4a3e-abc0-0acc70151e5f",
   "metadata": {},
   "source": [
    "## 📁 3. Lettura di un file .csv\n",
    "https://gut.bmj.com/content/66/1/70"
   ]
  },
  {
   "cell_type": "code",
   "execution_count": 45,
   "id": "85bb89a4-da67-4591-86a6-121701edd898",
   "metadata": {},
   "outputs": [
    {
     "data": {
      "text/html": [
       "<div>\n",
       "<style scoped>\n",
       "    .dataframe tbody tr th:only-of-type {\n",
       "        vertical-align: middle;\n",
       "    }\n",
       "\n",
       "    .dataframe tbody tr th {\n",
       "        vertical-align: top;\n",
       "    }\n",
       "\n",
       "    .dataframe thead th {\n",
       "        text-align: right;\n",
       "    }\n",
       "</style>\n",
       "<table border=\"1\" class=\"dataframe\">\n",
       "  <thead>\n",
       "    <tr style=\"text-align: right;\">\n",
       "      <th></th>\n",
       "      <th>index</th>\n",
       "      <th>Diagnosis</th>\n",
       "      <th>msp_0001</th>\n",
       "      <th>msp_0002</th>\n",
       "      <th>msp_0003</th>\n",
       "      <th>msp_0004</th>\n",
       "      <th>msp_0005</th>\n",
       "      <th>msp_0006</th>\n",
       "      <th>msp_0007</th>\n",
       "      <th>msp_0008</th>\n",
       "      <th>...</th>\n",
       "      <th>msp_2176</th>\n",
       "      <th>msp_2178</th>\n",
       "      <th>msp_2180</th>\n",
       "      <th>msp_2191</th>\n",
       "      <th>msp_2195</th>\n",
       "      <th>msp_2196</th>\n",
       "      <th>msp_2207</th>\n",
       "      <th>msp_2209</th>\n",
       "      <th>msp_2210</th>\n",
       "      <th>msp_2211</th>\n",
       "    </tr>\n",
       "  </thead>\n",
       "  <tbody>\n",
       "    <tr>\n",
       "      <th>0</th>\n",
       "      <td>ERS848626</td>\n",
       "      <td>H</td>\n",
       "      <td>0.0</td>\n",
       "      <td>0.0</td>\n",
       "      <td>1.591538e-06</td>\n",
       "      <td>0.0</td>\n",
       "      <td>6.840334e-05</td>\n",
       "      <td>0.0</td>\n",
       "      <td>0.000002</td>\n",
       "      <td>3.804969e-08</td>\n",
       "      <td>...</td>\n",
       "      <td>0.0</td>\n",
       "      <td>0.0</td>\n",
       "      <td>0.0</td>\n",
       "      <td>0.0</td>\n",
       "      <td>0.0</td>\n",
       "      <td>0.0</td>\n",
       "      <td>0.0</td>\n",
       "      <td>0.0</td>\n",
       "      <td>0.0</td>\n",
       "      <td>0.0</td>\n",
       "    </tr>\n",
       "    <tr>\n",
       "      <th>1</th>\n",
       "      <td>ERS848628</td>\n",
       "      <td>H</td>\n",
       "      <td>0.0</td>\n",
       "      <td>0.0</td>\n",
       "      <td>0.000000e+00</td>\n",
       "      <td>0.0</td>\n",
       "      <td>5.534755e-08</td>\n",
       "      <td>0.0</td>\n",
       "      <td>0.000014</td>\n",
       "      <td>6.146558e-09</td>\n",
       "      <td>...</td>\n",
       "      <td>0.0</td>\n",
       "      <td>0.0</td>\n",
       "      <td>0.0</td>\n",
       "      <td>0.0</td>\n",
       "      <td>0.0</td>\n",
       "      <td>0.0</td>\n",
       "      <td>0.0</td>\n",
       "      <td>0.0</td>\n",
       "      <td>0.0</td>\n",
       "      <td>0.0</td>\n",
       "    </tr>\n",
       "    <tr>\n",
       "      <th>2</th>\n",
       "      <td>ERS848636</td>\n",
       "      <td>H</td>\n",
       "      <td>0.0</td>\n",
       "      <td>0.0</td>\n",
       "      <td>0.000000e+00</td>\n",
       "      <td>0.0</td>\n",
       "      <td>2.164358e-06</td>\n",
       "      <td>0.0</td>\n",
       "      <td>0.000002</td>\n",
       "      <td>0.000000e+00</td>\n",
       "      <td>...</td>\n",
       "      <td>0.0</td>\n",
       "      <td>0.0</td>\n",
       "      <td>0.0</td>\n",
       "      <td>0.0</td>\n",
       "      <td>0.0</td>\n",
       "      <td>0.0</td>\n",
       "      <td>0.0</td>\n",
       "      <td>0.0</td>\n",
       "      <td>0.0</td>\n",
       "      <td>0.0</td>\n",
       "    </tr>\n",
       "    <tr>\n",
       "      <th>3</th>\n",
       "      <td>ERS848638</td>\n",
       "      <td>H</td>\n",
       "      <td>0.0</td>\n",
       "      <td>0.0</td>\n",
       "      <td>5.581454e-09</td>\n",
       "      <td>0.0</td>\n",
       "      <td>8.761945e-07</td>\n",
       "      <td>0.0</td>\n",
       "      <td>0.000001</td>\n",
       "      <td>0.000000e+00</td>\n",
       "      <td>...</td>\n",
       "      <td>0.0</td>\n",
       "      <td>0.0</td>\n",
       "      <td>0.0</td>\n",
       "      <td>0.0</td>\n",
       "      <td>0.0</td>\n",
       "      <td>0.0</td>\n",
       "      <td>0.0</td>\n",
       "      <td>0.0</td>\n",
       "      <td>0.0</td>\n",
       "      <td>0.0</td>\n",
       "    </tr>\n",
       "    <tr>\n",
       "      <th>4</th>\n",
       "      <td>ERS848642</td>\n",
       "      <td>H</td>\n",
       "      <td>0.0</td>\n",
       "      <td>0.0</td>\n",
       "      <td>7.901689e-07</td>\n",
       "      <td>0.0</td>\n",
       "      <td>1.339753e-06</td>\n",
       "      <td>0.0</td>\n",
       "      <td>0.000003</td>\n",
       "      <td>8.720330e-06</td>\n",
       "      <td>...</td>\n",
       "      <td>0.0</td>\n",
       "      <td>0.0</td>\n",
       "      <td>0.0</td>\n",
       "      <td>0.0</td>\n",
       "      <td>0.0</td>\n",
       "      <td>0.0</td>\n",
       "      <td>0.0</td>\n",
       "      <td>0.0</td>\n",
       "      <td>0.0</td>\n",
       "      <td>0.0</td>\n",
       "    </tr>\n",
       "  </tbody>\n",
       "</table>\n",
       "<p>5 rows × 1992 columns</p>\n",
       "</div>"
      ],
      "text/plain": [
       "       index Diagnosis  msp_0001  msp_0002      msp_0003  msp_0004  \\\n",
       "0  ERS848626         H       0.0       0.0  1.591538e-06       0.0   \n",
       "1  ERS848628         H       0.0       0.0  0.000000e+00       0.0   \n",
       "2  ERS848636         H       0.0       0.0  0.000000e+00       0.0   \n",
       "3  ERS848638         H       0.0       0.0  5.581454e-09       0.0   \n",
       "4  ERS848642         H       0.0       0.0  7.901689e-07       0.0   \n",
       "\n",
       "       msp_0005  msp_0006  msp_0007      msp_0008  ...  msp_2176  msp_2178  \\\n",
       "0  6.840334e-05       0.0  0.000002  3.804969e-08  ...       0.0       0.0   \n",
       "1  5.534755e-08       0.0  0.000014  6.146558e-09  ...       0.0       0.0   \n",
       "2  2.164358e-06       0.0  0.000002  0.000000e+00  ...       0.0       0.0   \n",
       "3  8.761945e-07       0.0  0.000001  0.000000e+00  ...       0.0       0.0   \n",
       "4  1.339753e-06       0.0  0.000003  8.720330e-06  ...       0.0       0.0   \n",
       "\n",
       "   msp_2180  msp_2191  msp_2195  msp_2196  msp_2207  msp_2209  msp_2210  \\\n",
       "0       0.0       0.0       0.0       0.0       0.0       0.0       0.0   \n",
       "1       0.0       0.0       0.0       0.0       0.0       0.0       0.0   \n",
       "2       0.0       0.0       0.0       0.0       0.0       0.0       0.0   \n",
       "3       0.0       0.0       0.0       0.0       0.0       0.0       0.0   \n",
       "4       0.0       0.0       0.0       0.0       0.0       0.0       0.0   \n",
       "\n",
       "   msp_2211  \n",
       "0       0.0  \n",
       "1       0.0  \n",
       "2       0.0  \n",
       "3       0.0  \n",
       "4       0.0  \n",
       "\n",
       "[5 rows x 1992 columns]"
      ]
     },
     "execution_count": 45,
     "metadata": {},
     "output_type": "execute_result"
    }
   ],
   "source": [
    "df_csv = pd.read_csv('df_chn.csv')\n",
    "df_csv.head()"
   ]
  },
  {
   "cell_type": "code",
   "execution_count": 46,
   "id": "2121a4c3-d6d8-4b63-9bc9-72aab94cf504",
   "metadata": {},
   "outputs": [
    {
     "data": {
      "text/html": [
       "<div>\n",
       "<style scoped>\n",
       "    .dataframe tbody tr th:only-of-type {\n",
       "        vertical-align: middle;\n",
       "    }\n",
       "\n",
       "    .dataframe tbody tr th {\n",
       "        vertical-align: top;\n",
       "    }\n",
       "\n",
       "    .dataframe thead th {\n",
       "        text-align: right;\n",
       "    }\n",
       "</style>\n",
       "<table border=\"1\" class=\"dataframe\">\n",
       "  <thead>\n",
       "    <tr style=\"text-align: right;\">\n",
       "      <th></th>\n",
       "      <th>index</th>\n",
       "      <th>Diagnosis</th>\n",
       "      <th>msp_0001</th>\n",
       "      <th>msp_0002</th>\n",
       "      <th>msp_0003</th>\n",
       "      <th>msp_0004</th>\n",
       "      <th>msp_0005</th>\n",
       "      <th>msp_0006</th>\n",
       "      <th>msp_0007</th>\n",
       "      <th>msp_0008</th>\n",
       "      <th>...</th>\n",
       "      <th>msp_2176</th>\n",
       "      <th>msp_2178</th>\n",
       "      <th>msp_2180</th>\n",
       "      <th>msp_2191</th>\n",
       "      <th>msp_2195</th>\n",
       "      <th>msp_2196</th>\n",
       "      <th>msp_2207</th>\n",
       "      <th>msp_2209</th>\n",
       "      <th>msp_2210</th>\n",
       "      <th>msp_2211</th>\n",
       "    </tr>\n",
       "  </thead>\n",
       "  <tbody>\n",
       "    <tr>\n",
       "      <th>0</th>\n",
       "      <td>ERS848626</td>\n",
       "      <td>H</td>\n",
       "      <td>0.0</td>\n",
       "      <td>0.0</td>\n",
       "      <td>0.000002</td>\n",
       "      <td>0.0</td>\n",
       "      <td>6.840334e-05</td>\n",
       "      <td>0.0</td>\n",
       "      <td>0.000002</td>\n",
       "      <td>3.804969e-08</td>\n",
       "      <td>...</td>\n",
       "      <td>0.0</td>\n",
       "      <td>0.0</td>\n",
       "      <td>0.0</td>\n",
       "      <td>0.0</td>\n",
       "      <td>0.0</td>\n",
       "      <td>0.0</td>\n",
       "      <td>0.0</td>\n",
       "      <td>0.0</td>\n",
       "      <td>0.0</td>\n",
       "      <td>0.0</td>\n",
       "    </tr>\n",
       "    <tr>\n",
       "      <th>1</th>\n",
       "      <td>ERS848628</td>\n",
       "      <td>H</td>\n",
       "      <td>0.0</td>\n",
       "      <td>0.0</td>\n",
       "      <td>0.000000</td>\n",
       "      <td>0.0</td>\n",
       "      <td>5.534755e-08</td>\n",
       "      <td>0.0</td>\n",
       "      <td>0.000014</td>\n",
       "      <td>6.146558e-09</td>\n",
       "      <td>...</td>\n",
       "      <td>0.0</td>\n",
       "      <td>0.0</td>\n",
       "      <td>0.0</td>\n",
       "      <td>0.0</td>\n",
       "      <td>0.0</td>\n",
       "      <td>0.0</td>\n",
       "      <td>0.0</td>\n",
       "      <td>0.0</td>\n",
       "      <td>0.0</td>\n",
       "      <td>0.0</td>\n",
       "    </tr>\n",
       "    <tr>\n",
       "      <th>2</th>\n",
       "      <td>ERS848636</td>\n",
       "      <td>H</td>\n",
       "      <td>0.0</td>\n",
       "      <td>0.0</td>\n",
       "      <td>0.000000</td>\n",
       "      <td>0.0</td>\n",
       "      <td>2.164358e-06</td>\n",
       "      <td>0.0</td>\n",
       "      <td>0.000002</td>\n",
       "      <td>0.000000e+00</td>\n",
       "      <td>...</td>\n",
       "      <td>0.0</td>\n",
       "      <td>0.0</td>\n",
       "      <td>0.0</td>\n",
       "      <td>0.0</td>\n",
       "      <td>0.0</td>\n",
       "      <td>0.0</td>\n",
       "      <td>0.0</td>\n",
       "      <td>0.0</td>\n",
       "      <td>0.0</td>\n",
       "      <td>0.0</td>\n",
       "    </tr>\n",
       "  </tbody>\n",
       "</table>\n",
       "<p>3 rows × 1992 columns</p>\n",
       "</div>"
      ],
      "text/plain": [
       "       index Diagnosis  msp_0001  msp_0002  msp_0003  msp_0004      msp_0005  \\\n",
       "0  ERS848626         H       0.0       0.0  0.000002       0.0  6.840334e-05   \n",
       "1  ERS848628         H       0.0       0.0  0.000000       0.0  5.534755e-08   \n",
       "2  ERS848636         H       0.0       0.0  0.000000       0.0  2.164358e-06   \n",
       "\n",
       "   msp_0006  msp_0007      msp_0008  ...  msp_2176  msp_2178  msp_2180  \\\n",
       "0       0.0  0.000002  3.804969e-08  ...       0.0       0.0       0.0   \n",
       "1       0.0  0.000014  6.146558e-09  ...       0.0       0.0       0.0   \n",
       "2       0.0  0.000002  0.000000e+00  ...       0.0       0.0       0.0   \n",
       "\n",
       "   msp_2191  msp_2195  msp_2196  msp_2207  msp_2209  msp_2210  msp_2211  \n",
       "0       0.0       0.0       0.0       0.0       0.0       0.0       0.0  \n",
       "1       0.0       0.0       0.0       0.0       0.0       0.0       0.0  \n",
       "2       0.0       0.0       0.0       0.0       0.0       0.0       0.0  \n",
       "\n",
       "[3 rows x 1992 columns]"
      ]
     },
     "execution_count": 46,
     "metadata": {},
     "output_type": "execute_result"
    }
   ],
   "source": [
    "#📝 Task:\n",
    "#Visualizza solo le prime 3 righe del DataFrame.\n",
    "\n",
    "\n",
    "df_csv.head(3)"
   ]
  },
  {
   "cell_type": "markdown",
   "id": "eb53c530-8523-46e0-8d9b-97222f806404",
   "metadata": {},
   "source": [
    "## 📊 Visualizzazione dei dati con Seaborn\n",
    "https://seaborn.pydata.org/\n",
    "https://matplotlib.org/"
   ]
  },
  {
   "cell_type": "code",
   "execution_count": 70,
   "id": "fbdcb3ab-ea2f-476e-9b6f-6464cdb0f1aa",
   "metadata": {},
   "outputs": [],
   "source": [
    "import seaborn as sns\n",
    "import matplotlib.pyplot as plt"
   ]
  },
  {
   "cell_type": "code",
   "execution_count": 71,
   "id": "170b12d6-7e10-4fdb-9e95-5016f4c920d6",
   "metadata": {},
   "outputs": [
    {
     "data": {
      "text/html": [
       "<div>\n",
       "<style scoped>\n",
       "    .dataframe tbody tr th:only-of-type {\n",
       "        vertical-align: middle;\n",
       "    }\n",
       "\n",
       "    .dataframe tbody tr th {\n",
       "        vertical-align: top;\n",
       "    }\n",
       "\n",
       "    .dataframe thead th {\n",
       "        text-align: right;\n",
       "    }\n",
       "</style>\n",
       "<table border=\"1\" class=\"dataframe\">\n",
       "  <thead>\n",
       "    <tr style=\"text-align: right;\">\n",
       "      <th></th>\n",
       "      <th>Bacteroides</th>\n",
       "      <th>Firmicutes</th>\n",
       "      <th>Lactobacillus</th>\n",
       "      <th>Prevotella</th>\n",
       "      <th>Akkermansia</th>\n",
       "      <th>Outcome</th>\n",
       "    </tr>\n",
       "    <tr>\n",
       "      <th>Sample</th>\n",
       "      <th></th>\n",
       "      <th></th>\n",
       "      <th></th>\n",
       "      <th></th>\n",
       "      <th></th>\n",
       "      <th></th>\n",
       "    </tr>\n",
       "  </thead>\n",
       "  <tbody>\n",
       "    <tr>\n",
       "      <th>S1</th>\n",
       "      <td>0.30</td>\n",
       "      <td>0.20</td>\n",
       "      <td>0.10</td>\n",
       "      <td>0.15</td>\n",
       "      <td>0.03</td>\n",
       "      <td>1</td>\n",
       "    </tr>\n",
       "    <tr>\n",
       "      <th>S2</th>\n",
       "      <td>0.25</td>\n",
       "      <td>0.30</td>\n",
       "      <td>0.12</td>\n",
       "      <td>0.05</td>\n",
       "      <td>0.01</td>\n",
       "      <td>0</td>\n",
       "    </tr>\n",
       "    <tr>\n",
       "      <th>S3</th>\n",
       "      <td>0.35</td>\n",
       "      <td>0.25</td>\n",
       "      <td>0.08</td>\n",
       "      <td>0.12</td>\n",
       "      <td>0.04</td>\n",
       "      <td>1</td>\n",
       "    </tr>\n",
       "    <tr>\n",
       "      <th>S4</th>\n",
       "      <td>0.15</td>\n",
       "      <td>0.22</td>\n",
       "      <td>0.20</td>\n",
       "      <td>0.18</td>\n",
       "      <td>0.02</td>\n",
       "      <td>0</td>\n",
       "    </tr>\n",
       "    <tr>\n",
       "      <th>S5</th>\n",
       "      <td>0.40</td>\n",
       "      <td>0.18</td>\n",
       "      <td>0.05</td>\n",
       "      <td>0.07</td>\n",
       "      <td>0.05</td>\n",
       "      <td>1</td>\n",
       "    </tr>\n",
       "    <tr>\n",
       "      <th>S6</th>\n",
       "      <td>0.10</td>\n",
       "      <td>0.28</td>\n",
       "      <td>0.15</td>\n",
       "      <td>0.10</td>\n",
       "      <td>0.01</td>\n",
       "      <td>0</td>\n",
       "    </tr>\n",
       "  </tbody>\n",
       "</table>\n",
       "</div>"
      ],
      "text/plain": [
       "        Bacteroides  Firmicutes  Lactobacillus  Prevotella  Akkermansia  \\\n",
       "Sample                                                                    \n",
       "S1             0.30        0.20           0.10        0.15         0.03   \n",
       "S2             0.25        0.30           0.12        0.05         0.01   \n",
       "S3             0.35        0.25           0.08        0.12         0.04   \n",
       "S4             0.15        0.22           0.20        0.18         0.02   \n",
       "S5             0.40        0.18           0.05        0.07         0.05   \n",
       "S6             0.10        0.28           0.15        0.10         0.01   \n",
       "\n",
       "        Outcome  \n",
       "Sample           \n",
       "S1            1  \n",
       "S2            0  \n",
       "S3            1  \n",
       "S4            0  \n",
       "S5            1  \n",
       "S6            0  "
      ]
     },
     "execution_count": 71,
     "metadata": {},
     "output_type": "execute_result"
    }
   ],
   "source": [
    "df"
   ]
  },
  {
   "cell_type": "markdown",
   "id": "7c5f7c4f-82fe-4654-8302-b37067d60def",
   "metadata": {},
   "source": [
    "### Correlation Plot"
   ]
  },
  {
   "cell_type": "code",
   "execution_count": 73,
   "id": "87c0dd67-5ff5-4a0c-8286-048b905d3ee9",
   "metadata": {},
   "outputs": [
    {
     "data": {
      "image/png": "[encoded data removed]",
      "text/plain": [
       "<Figure size 800x600 with 2 Axes>"
      ]
     },
     "metadata": {},
     "output_type": "display_data"
    }
   ],
   "source": [
    "#Mostra la correlazione tra i batteri usando una heatmap.\n",
    "\n",
    "# calcolo matrice di correlazione\n",
    "corr = df.drop(columns='Outcome').corr()\n",
    "\n",
    "# heatmap\n",
    "plt.figure(figsize=(8,6))\n",
    "sns.heatmap(corr, annot=True, cmap='coolwarm')\n",
    "plt.title(\"Correlation Plot tra batteri\")\n",
    "plt.show()"
   ]
  },
  {
   "cell_type": "markdown",
   "id": "9e1e8e2c-c49d-4849-bbc6-2ac101c7a575",
   "metadata": {},
   "source": [
    "### Istogramma delle abbondanze di Bacteroides"
   ]
  },
  {
   "cell_type": "code",
   "execution_count": 75,
   "id": "819f9772-c8bb-411f-8e13-34056836d973",
   "metadata": {},
   "outputs": [
    {
     "data": {
      "image/png": "[encoded data removed]",
      "text/plain": [
       "<Figure size 640x480 with 1 Axes>"
      ]
     },
     "metadata": {},
     "output_type": "display_data"
    }
   ],
   "source": [
    "sns.histplot(data=df, x='Firmicutes', kde=True)\n",
    "plt.title(\"Distribuzione di Bacteroides\")\n",
    "plt.show()\n"
   ]
  },
  {
   "cell_type": "markdown",
   "id": "9375ea72-6364-4202-a37a-b891b9ad2570",
   "metadata": {},
   "source": [
    "### Boxplot per confrontare Firmicutes tra outcome"
   ]
  },
  {
   "cell_type": "code",
   "execution_count": 76,
   "id": "dfbd6e78-c637-41a6-baf7-9a04ffc85c87",
   "metadata": {},
   "outputs": [
    {
     "data": {
      "image/png": "[encoded data removed]",
      "text/plain": [
       "<Figure size 640x480 with 1 Axes>"
      ]
     },
     "metadata": {},
     "output_type": "display_data"
    }
   ],
   "source": [
    "sns.boxplot(data=df, x='Outcome', y='Firmicutes')\n",
    "plt.title(\"Distribuzione di Firmicutes per outcome\")\n",
    "plt.show()\n"
   ]
  },
  {
   "cell_type": "markdown",
   "id": "d40da2e7-3a84-4185-9283-e9e218450ea4",
   "metadata": {},
   "source": [
    "### Scatter plot tra Bacteroides e Firmicutes"
   ]
  },
  {
   "cell_type": "code",
   "execution_count": 79,
   "id": "3d92c60e-a71c-4499-9a82-411f97e30189",
   "metadata": {},
   "outputs": [
    {
     "data": {
      "image/png": "[encoded data removed]",
      "text/plain": [
       "<Figure size 640x480 with 1 Axes>"
      ]
     },
     "metadata": {},
     "output_type": "display_data"
    }
   ],
   "source": [
    "sns.scatterplot(data=df, x='Bacteroides', y='Firmicutes', hue='Outcome', style='Outcome')\n",
    "plt.title(\"Relazione tra Bacteroides e Firmicutes\")\n",
    "plt.show()\n"
   ]
  },
  {
   "cell_type": "markdown",
   "id": "e99ef25e-9328-4b4a-b4cf-e393e24ce615",
   "metadata": {},
   "source": [
    "### Barplot della media di Lactobacillus per outcome"
   ]
  },
  {
   "cell_type": "code",
   "execution_count": 80,
   "id": "c725314e-e711-45bb-8cb1-b4781edde731",
   "metadata": {},
   "outputs": [
    {
     "data": {
      "image/png": "[encoded data removed]",
      "text/plain": [
       "<Figure size 640x480 with 1 Axes>"
      ]
     },
     "metadata": {},
     "output_type": "display_data"
    }
   ],
   "source": [
    "sns.barplot(data=df, x='Outcome', y='Lactobacillus', estimator='mean')\n",
    "plt.title(\"Media di Lactobacillus per outcome\")\n",
    "plt.show()\n"
   ]
  },
  {
   "cell_type": "markdown",
   "id": "4c445e9e-f42b-4650-8ac8-98927378d9d2",
   "metadata": {},
   "source": [
    "## Task "
   ]
  },
  {
   "cell_type": "code",
   "execution_count": 89,
   "id": "eeb39a6f-0583-42b5-b656-6521f6955c01",
   "metadata": {},
   "outputs": [
    {
     "data": {
      "text/html": [
       "<div>\n",
       "<style scoped>\n",
       "    .dataframe tbody tr th:only-of-type {\n",
       "        vertical-align: middle;\n",
       "    }\n",
       "\n",
       "    .dataframe tbody tr th {\n",
       "        vertical-align: top;\n",
       "    }\n",
       "\n",
       "    .dataframe thead th {\n",
       "        text-align: right;\n",
       "    }\n",
       "</style>\n",
       "<table border=\"1\" class=\"dataframe\">\n",
       "  <thead>\n",
       "    <tr style=\"text-align: right;\">\n",
       "      <th></th>\n",
       "      <th>index</th>\n",
       "      <th>Diagnosis</th>\n",
       "      <th>msp_0001</th>\n",
       "      <th>msp_0002</th>\n",
       "      <th>msp_0003</th>\n",
       "      <th>msp_0004</th>\n",
       "      <th>msp_0005</th>\n",
       "      <th>msp_0006</th>\n",
       "      <th>msp_0007</th>\n",
       "      <th>msp_0008</th>\n",
       "      <th>...</th>\n",
       "      <th>msp_2178</th>\n",
       "      <th>msp_2180</th>\n",
       "      <th>msp_2191</th>\n",
       "      <th>msp_2195</th>\n",
       "      <th>msp_2196</th>\n",
       "      <th>msp_2207</th>\n",
       "      <th>msp_2209</th>\n",
       "      <th>msp_2210</th>\n",
       "      <th>msp_2211</th>\n",
       "      <th>non_zero_features</th>\n",
       "    </tr>\n",
       "  </thead>\n",
       "  <tbody>\n",
       "    <tr>\n",
       "      <th>0</th>\n",
       "      <td>ERS848626</td>\n",
       "      <td>H</td>\n",
       "      <td>0.0</td>\n",
       "      <td>0.0</td>\n",
       "      <td>1.591538e-06</td>\n",
       "      <td>0.0</td>\n",
       "      <td>6.840334e-05</td>\n",
       "      <td>0.0</td>\n",
       "      <td>1.829981e-06</td>\n",
       "      <td>3.804969e-08</td>\n",
       "      <td>...</td>\n",
       "      <td>0.0</td>\n",
       "      <td>0.0</td>\n",
       "      <td>0.0</td>\n",
       "      <td>0.0</td>\n",
       "      <td>0.0</td>\n",
       "      <td>0.0</td>\n",
       "      <td>0.0</td>\n",
       "      <td>0.0</td>\n",
       "      <td>0.0</td>\n",
       "      <td>189</td>\n",
       "    </tr>\n",
       "    <tr>\n",
       "      <th>1</th>\n",
       "      <td>ERS848628</td>\n",
       "      <td>H</td>\n",
       "      <td>0.0</td>\n",
       "      <td>0.0</td>\n",
       "      <td>0.000000e+00</td>\n",
       "      <td>0.0</td>\n",
       "      <td>5.534755e-08</td>\n",
       "      <td>0.0</td>\n",
       "      <td>1.380094e-05</td>\n",
       "      <td>6.146558e-09</td>\n",
       "      <td>...</td>\n",
       "      <td>0.0</td>\n",
       "      <td>0.0</td>\n",
       "      <td>0.0</td>\n",
       "      <td>0.0</td>\n",
       "      <td>0.0</td>\n",
       "      <td>0.0</td>\n",
       "      <td>0.0</td>\n",
       "      <td>0.0</td>\n",
       "      <td>0.0</td>\n",
       "      <td>113</td>\n",
       "    </tr>\n",
       "    <tr>\n",
       "      <th>2</th>\n",
       "      <td>ERS848636</td>\n",
       "      <td>H</td>\n",
       "      <td>0.0</td>\n",
       "      <td>0.0</td>\n",
       "      <td>0.000000e+00</td>\n",
       "      <td>0.0</td>\n",
       "      <td>2.164358e-06</td>\n",
       "      <td>0.0</td>\n",
       "      <td>2.400156e-06</td>\n",
       "      <td>0.000000e+00</td>\n",
       "      <td>...</td>\n",
       "      <td>0.0</td>\n",
       "      <td>0.0</td>\n",
       "      <td>0.0</td>\n",
       "      <td>0.0</td>\n",
       "      <td>0.0</td>\n",
       "      <td>0.0</td>\n",
       "      <td>0.0</td>\n",
       "      <td>0.0</td>\n",
       "      <td>0.0</td>\n",
       "      <td>146</td>\n",
       "    </tr>\n",
       "    <tr>\n",
       "      <th>3</th>\n",
       "      <td>ERS848638</td>\n",
       "      <td>H</td>\n",
       "      <td>0.0</td>\n",
       "      <td>0.0</td>\n",
       "      <td>5.581454e-09</td>\n",
       "      <td>0.0</td>\n",
       "      <td>8.761945e-07</td>\n",
       "      <td>0.0</td>\n",
       "      <td>1.475660e-06</td>\n",
       "      <td>0.000000e+00</td>\n",
       "      <td>...</td>\n",
       "      <td>0.0</td>\n",
       "      <td>0.0</td>\n",
       "      <td>0.0</td>\n",
       "      <td>0.0</td>\n",
       "      <td>0.0</td>\n",
       "      <td>0.0</td>\n",
       "      <td>0.0</td>\n",
       "      <td>0.0</td>\n",
       "      <td>0.0</td>\n",
       "      <td>157</td>\n",
       "    </tr>\n",
       "    <tr>\n",
       "      <th>4</th>\n",
       "      <td>ERS848642</td>\n",
       "      <td>H</td>\n",
       "      <td>0.0</td>\n",
       "      <td>0.0</td>\n",
       "      <td>7.901689e-07</td>\n",
       "      <td>0.0</td>\n",
       "      <td>1.339753e-06</td>\n",
       "      <td>0.0</td>\n",
       "      <td>2.856930e-06</td>\n",
       "      <td>8.720330e-06</td>\n",
       "      <td>...</td>\n",
       "      <td>0.0</td>\n",
       "      <td>0.0</td>\n",
       "      <td>0.0</td>\n",
       "      <td>0.0</td>\n",
       "      <td>0.0</td>\n",
       "      <td>0.0</td>\n",
       "      <td>0.0</td>\n",
       "      <td>0.0</td>\n",
       "      <td>0.0</td>\n",
       "      <td>152</td>\n",
       "    </tr>\n",
       "    <tr>\n",
       "      <th>...</th>\n",
       "      <td>...</td>\n",
       "      <td>...</td>\n",
       "      <td>...</td>\n",
       "      <td>...</td>\n",
       "      <td>...</td>\n",
       "      <td>...</td>\n",
       "      <td>...</td>\n",
       "      <td>...</td>\n",
       "      <td>...</td>\n",
       "      <td>...</td>\n",
       "      <td>...</td>\n",
       "      <td>...</td>\n",
       "      <td>...</td>\n",
       "      <td>...</td>\n",
       "      <td>...</td>\n",
       "      <td>...</td>\n",
       "      <td>...</td>\n",
       "      <td>...</td>\n",
       "      <td>...</td>\n",
       "      <td>...</td>\n",
       "      <td>...</td>\n",
       "    </tr>\n",
       "    <tr>\n",
       "      <th>123</th>\n",
       "      <td>ERS848739</td>\n",
       "      <td>P</td>\n",
       "      <td>0.0</td>\n",
       "      <td>0.0</td>\n",
       "      <td>7.497071e-08</td>\n",
       "      <td>0.0</td>\n",
       "      <td>1.952060e-07</td>\n",
       "      <td>0.0</td>\n",
       "      <td>5.544119e-07</td>\n",
       "      <td>0.000000e+00</td>\n",
       "      <td>...</td>\n",
       "      <td>0.0</td>\n",
       "      <td>0.0</td>\n",
       "      <td>0.0</td>\n",
       "      <td>0.0</td>\n",
       "      <td>0.0</td>\n",
       "      <td>0.0</td>\n",
       "      <td>0.0</td>\n",
       "      <td>0.0</td>\n",
       "      <td>0.0</td>\n",
       "      <td>167</td>\n",
       "    </tr>\n",
       "    <tr>\n",
       "      <th>124</th>\n",
       "      <td>ERS848740</td>\n",
       "      <td>P</td>\n",
       "      <td>0.0</td>\n",
       "      <td>0.0</td>\n",
       "      <td>0.000000e+00</td>\n",
       "      <td>0.0</td>\n",
       "      <td>8.808569e-05</td>\n",
       "      <td>0.0</td>\n",
       "      <td>0.000000e+00</td>\n",
       "      <td>0.000000e+00</td>\n",
       "      <td>...</td>\n",
       "      <td>0.0</td>\n",
       "      <td>0.0</td>\n",
       "      <td>0.0</td>\n",
       "      <td>0.0</td>\n",
       "      <td>0.0</td>\n",
       "      <td>0.0</td>\n",
       "      <td>0.0</td>\n",
       "      <td>0.0</td>\n",
       "      <td>0.0</td>\n",
       "      <td>222</td>\n",
       "    </tr>\n",
       "    <tr>\n",
       "      <th>125</th>\n",
       "      <td>ERS848743</td>\n",
       "      <td>P</td>\n",
       "      <td>0.0</td>\n",
       "      <td>0.0</td>\n",
       "      <td>6.303137e-07</td>\n",
       "      <td>0.0</td>\n",
       "      <td>2.545203e-07</td>\n",
       "      <td>0.0</td>\n",
       "      <td>1.123042e-07</td>\n",
       "      <td>2.257191e-07</td>\n",
       "      <td>...</td>\n",
       "      <td>0.0</td>\n",
       "      <td>0.0</td>\n",
       "      <td>0.0</td>\n",
       "      <td>0.0</td>\n",
       "      <td>0.0</td>\n",
       "      <td>0.0</td>\n",
       "      <td>0.0</td>\n",
       "      <td>0.0</td>\n",
       "      <td>0.0</td>\n",
       "      <td>276</td>\n",
       "    </tr>\n",
       "    <tr>\n",
       "      <th>126</th>\n",
       "      <td>ERS848744</td>\n",
       "      <td>P</td>\n",
       "      <td>0.0</td>\n",
       "      <td>0.0</td>\n",
       "      <td>1.174096e-07</td>\n",
       "      <td>0.0</td>\n",
       "      <td>1.882782e-07</td>\n",
       "      <td>0.0</td>\n",
       "      <td>5.541110e-07</td>\n",
       "      <td>5.415073e-07</td>\n",
       "      <td>...</td>\n",
       "      <td>0.0</td>\n",
       "      <td>0.0</td>\n",
       "      <td>0.0</td>\n",
       "      <td>0.0</td>\n",
       "      <td>0.0</td>\n",
       "      <td>0.0</td>\n",
       "      <td>0.0</td>\n",
       "      <td>0.0</td>\n",
       "      <td>0.0</td>\n",
       "      <td>271</td>\n",
       "    </tr>\n",
       "    <tr>\n",
       "      <th>127</th>\n",
       "      <td>ERS848745</td>\n",
       "      <td>P</td>\n",
       "      <td>0.0</td>\n",
       "      <td>0.0</td>\n",
       "      <td>1.057994e-07</td>\n",
       "      <td>0.0</td>\n",
       "      <td>6.476508e-05</td>\n",
       "      <td>0.0</td>\n",
       "      <td>1.451734e-08</td>\n",
       "      <td>0.000000e+00</td>\n",
       "      <td>...</td>\n",
       "      <td>0.0</td>\n",
       "      <td>0.0</td>\n",
       "      <td>0.0</td>\n",
       "      <td>0.0</td>\n",
       "      <td>0.0</td>\n",
       "      <td>0.0</td>\n",
       "      <td>0.0</td>\n",
       "      <td>0.0</td>\n",
       "      <td>0.0</td>\n",
       "      <td>153</td>\n",
       "    </tr>\n",
       "  </tbody>\n",
       "</table>\n",
       "<p>128 rows × 1993 columns</p>\n",
       "</div>"
      ],
      "text/plain": [
       "         index Diagnosis  msp_0001  msp_0002      msp_0003  msp_0004  \\\n",
       "0    ERS848626         H       0.0       0.0  1.591538e-06       0.0   \n",
       "1    ERS848628         H       0.0       0.0  0.000000e+00       0.0   \n",
       "2    ERS848636         H       0.0       0.0  0.000000e+00       0.0   \n",
       "3    ERS848638         H       0.0       0.0  5.581454e-09       0.0   \n",
       "4    ERS848642         H       0.0       0.0  7.901689e-07       0.0   \n",
       "..         ...       ...       ...       ...           ...       ...   \n",
       "123  ERS848739         P       0.0       0.0  7.497071e-08       0.0   \n",
       "124  ERS848740         P       0.0       0.0  0.000000e+00       0.0   \n",
       "125  ERS848743         P       0.0       0.0  6.303137e-07       0.0   \n",
       "126  ERS848744         P       0.0       0.0  1.174096e-07       0.0   \n",
       "127  ERS848745         P       0.0       0.0  1.057994e-07       0.0   \n",
       "\n",
       "         msp_0005  msp_0006      msp_0007      msp_0008  ...  msp_2178  \\\n",
       "0    6.840334e-05       0.0  1.829981e-06  3.804969e-08  ...       0.0   \n",
       "1    5.534755e-08       0.0  1.380094e-05  6.146558e-09  ...       0.0   \n",
       "2    2.164358e-06       0.0  2.400156e-06  0.000000e+00  ...       0.0   \n",
       "3    8.761945e-07       0.0  1.475660e-06  0.000000e+00  ...       0.0   \n",
       "4    1.339753e-06       0.0  2.856930e-06  8.720330e-06  ...       0.0   \n",
       "..            ...       ...           ...           ...  ...       ...   \n",
       "123  1.952060e-07       0.0  5.544119e-07  0.000000e+00  ...       0.0   \n",
       "124  8.808569e-05       0.0  0.000000e+00  0.000000e+00  ...       0.0   \n",
       "125  2.545203e-07       0.0  1.123042e-07  2.257191e-07  ...       0.0   \n",
       "126  1.882782e-07       0.0  5.541110e-07  5.415073e-07  ...       0.0   \n",
       "127  6.476508e-05       0.0  1.451734e-08  0.000000e+00  ...       0.0   \n",
       "\n",
       "     msp_2180  msp_2191  msp_2195  msp_2196  msp_2207  msp_2209  msp_2210  \\\n",
       "0         0.0       0.0       0.0       0.0       0.0       0.0       0.0   \n",
       "1         0.0       0.0       0.0       0.0       0.0       0.0       0.0   \n",
       "2         0.0       0.0       0.0       0.0       0.0       0.0       0.0   \n",
       "3         0.0       0.0       0.0       0.0       0.0       0.0       0.0   \n",
       "4         0.0       0.0       0.0       0.0       0.0       0.0       0.0   \n",
       "..        ...       ...       ...       ...       ...       ...       ...   \n",
       "123       0.0       0.0       0.0       0.0       0.0       0.0       0.0   \n",
       "124       0.0       0.0       0.0       0.0       0.0       0.0       0.0   \n",
       "125       0.0       0.0       0.0       0.0       0.0       0.0       0.0   \n",
       "126       0.0       0.0       0.0       0.0       0.0       0.0       0.0   \n",
       "127       0.0       0.0       0.0       0.0       0.0       0.0       0.0   \n",
       "\n",
       "     msp_2211  non_zero_features  \n",
       "0         0.0                189  \n",
       "1         0.0                113  \n",
       "2         0.0                146  \n",
       "3         0.0                157  \n",
       "4         0.0                152  \n",
       "..        ...                ...  \n",
       "123       0.0                167  \n",
       "124       0.0                222  \n",
       "125       0.0                276  \n",
       "126       0.0                271  \n",
       "127       0.0                153  \n",
       "\n",
       "[128 rows x 1993 columns]"
      ]
     },
     "execution_count": 89,
     "metadata": {},
     "output_type": "execute_result"
    }
   ],
   "source": [
    "df_csv"
   ]
  },
  {
   "cell_type": "code",
   "execution_count": null,
   "id": "53e4538b-755b-47f3-9c4a-4b7778102da2",
   "metadata": {},
   "outputs": [],
   "source": []
  }
 ],
 "metadata": {
  "kernelspec": {
   "display_name": "Python AI-microbiome-elixir",
   "language": "python",
   "name": "ai-microbiome"
  },
  "language_info": {
   "codemirror_mode": {
    "name": "ipython",
    "version": 3
   },
   "file_extension": ".py",
   "mimetype": "text/x-python",
   "name": "python",
   "nbconvert_exporter": "python",
   "pygments_lexer": "ipython3",
   "version": "3.10.18"
  }
 },
 "nbformat": 4,
 "nbformat_minor": 5
}
